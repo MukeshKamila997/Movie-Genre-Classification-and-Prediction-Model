{
  "cells": [
    {
      "cell_type": "markdown",
      "metadata": {
        "id": "7Rz_LdaEVaaW"
      },
      "source": [
        "#**PROJECT NAME** : **Movie Genre Classification With NLP**"
      ]
    },
    {
      "cell_type": "markdown",
      "metadata": {
        "id": "RydiBOaguK9J"
      },
      "source": [
        "* In this project, the goal is to examine the text in movie dataset by Using natural language processing (NLP) techniques for text classification to identify different genres for the movie. And train different Machine learning models to predict the genre of the movies based on the text data provided in the dataset."
      ]
    },
    {
      "cell_type": "markdown",
      "metadata": {
        "id": "D-o3x6NvT5sS"
      },
      "source": [
        "## Import Libraries"
      ]
    },
    {
      "cell_type": "code",
      "execution_count": 1,
      "metadata": {
        "colab": {
          "base_uri": "https://localhost:8080/"
        },
        "id": "Xqn8fNxatJTg",
        "outputId": "e2b41fdc-1ee1-43f1-aa64-7122425c0975"
      },
      "outputs": [
        {
          "output_type": "stream",
          "name": "stdout",
          "text": [
            "Requirement already satisfied: catboost in /usr/local/lib/python3.10/dist-packages (1.2.3)\n",
            "Requirement already satisfied: graphviz in /usr/local/lib/python3.10/dist-packages (from catboost) (0.20.1)\n",
            "Requirement already satisfied: matplotlib in /usr/local/lib/python3.10/dist-packages (from catboost) (3.7.1)\n",
            "Requirement already satisfied: numpy>=1.16.0 in /usr/local/lib/python3.10/dist-packages (from catboost) (1.25.2)\n",
            "Requirement already satisfied: pandas>=0.24 in /usr/local/lib/python3.10/dist-packages (from catboost) (1.5.3)\n",
            "Requirement already satisfied: scipy in /usr/local/lib/python3.10/dist-packages (from catboost) (1.11.4)\n",
            "Requirement already satisfied: plotly in /usr/local/lib/python3.10/dist-packages (from catboost) (5.15.0)\n",
            "Requirement already satisfied: six in /usr/local/lib/python3.10/dist-packages (from catboost) (1.16.0)\n",
            "Requirement already satisfied: python-dateutil>=2.8.1 in /usr/local/lib/python3.10/dist-packages (from pandas>=0.24->catboost) (2.8.2)\n",
            "Requirement already satisfied: pytz>=2020.1 in /usr/local/lib/python3.10/dist-packages (from pandas>=0.24->catboost) (2023.4)\n",
            "Requirement already satisfied: contourpy>=1.0.1 in /usr/local/lib/python3.10/dist-packages (from matplotlib->catboost) (1.2.0)\n",
            "Requirement already satisfied: cycler>=0.10 in /usr/local/lib/python3.10/dist-packages (from matplotlib->catboost) (0.12.1)\n",
            "Requirement already satisfied: fonttools>=4.22.0 in /usr/local/lib/python3.10/dist-packages (from matplotlib->catboost) (4.49.0)\n",
            "Requirement already satisfied: kiwisolver>=1.0.1 in /usr/local/lib/python3.10/dist-packages (from matplotlib->catboost) (1.4.5)\n",
            "Requirement already satisfied: packaging>=20.0 in /usr/local/lib/python3.10/dist-packages (from matplotlib->catboost) (23.2)\n",
            "Requirement already satisfied: pillow>=6.2.0 in /usr/local/lib/python3.10/dist-packages (from matplotlib->catboost) (9.4.0)\n",
            "Requirement already satisfied: pyparsing>=2.3.1 in /usr/local/lib/python3.10/dist-packages (from matplotlib->catboost) (3.1.1)\n",
            "Requirement already satisfied: tenacity>=6.2.0 in /usr/local/lib/python3.10/dist-packages (from plotly->catboost) (8.2.3)\n"
          ]
        }
      ],
      "source": [
        "import numpy as np\n",
        "import pandas as pd\n",
        "import matplotlib.pyplot as plt\n",
        "import seaborn as sns\n",
        "%matplotlib inline\n",
        "import re\n",
        "import nltk\n",
        "import spacy\n",
        "import string\n",
        "sns.set_style('darkgrid')\n",
        "\n",
        "from nltk.corpus import stopwords\n",
        "from nltk.stem import PorterStemmer, LancasterStemmer, SnowballStemmer\n",
        "from nltk.stem import WordNetLemmatizer\n",
        "from nltk.tokenize import word_tokenize, sent_tokenize\n",
        "from nltk.tokenize.toktok import ToktokTokenizer\n",
        "from textblob import TextBlob\n",
        "\n",
        "from sklearn.preprocessing import LabelEncoder, LabelBinarizer\n",
        "from sklearn.model_selection import train_test_split\n",
        "from sklearn.feature_extraction.text import TfidfVectorizer, CountVectorizer\n",
        "from sklearn.pipeline import Pipeline # Runing Line by line Tool\n",
        "from sklearn.metrics import accuracy_score, recall_score, f1_score, precision_score, confusion_matrix, classification_report\n",
        "\n",
        "from sklearn.linear_model import LogisticRegression, SGDClassifier\n",
        "from sklearn.naive_bayes import MultinomialNB\n",
        "from sklearn.neural_network import MLPClassifier\n",
        "from sklearn.tree import DecisionTreeClassifier\n",
        "from sklearn.ensemble import RandomForestClassifier\n",
        "from sklearn.neighbors import KNeighborsClassifier\n",
        "from sklearn.svm import SVC\n",
        "\n",
        "from lightgbm import LGBMClassifier\n",
        "from xgboost import XGBClassifier\n",
        "!pip install catboost\n",
        "from catboost import CatBoostClassifier\n",
        "\n",
        "import warnings\n",
        "warnings.filterwarnings('ignore')"
      ]
    },
    {
      "cell_type": "markdown",
      "metadata": {
        "id": "8v00XDCxUVKh"
      },
      "source": [
        "##Loading Dataset"
      ]
    },
    {
      "cell_type": "code",
      "execution_count": 2,
      "metadata": {
        "id": "wsi1g32t5NF0"
      },
      "outputs": [],
      "source": [
        "traindata = pd.read_csv('/content/drive/MyDrive/CodeClause/Project 2/train_data.csv.zip')\n",
        "testdata = pd.read_csv('/content/drive/MyDrive/CodeClause/Project 2/test_data_solution.csv.zip')"
      ]
    },
    {
      "cell_type": "code",
      "execution_count": 3,
      "metadata": {
        "colab": {
          "base_uri": "https://localhost:8080/"
        },
        "id": "HHzmW8msULHQ",
        "outputId": "2819602a-d8da-460e-8ca1-40573820777b"
      },
      "outputs": [
        {
          "output_type": "stream",
          "name": "stdout",
          "text": [
            "(54214, 4)\n",
            "(54200, 4)\n"
          ]
        }
      ],
      "source": [
        "print(traindata.shape)\n",
        "print(testdata.shape)"
      ]
    },
    {
      "cell_type": "markdown",
      "metadata": {
        "id": "QPaC4oDq3xCc"
      },
      "source": [
        "* This datasets are quite big let's analyze only first 5000 movies data."
      ]
    },
    {
      "cell_type": "code",
      "execution_count": 4,
      "metadata": {
        "id": "-t02oaI2TVDK"
      },
      "outputs": [],
      "source": [
        "df_train = traindata.iloc[:5000]\n",
        "df_test = testdata.iloc[:5000]"
      ]
    },
    {
      "cell_type": "markdown",
      "metadata": {
        "id": "TS0PEIaeaHKe"
      },
      "source": [
        "## Understanding the Data / Data Inspection / Data Exploration"
      ]
    },
    {
      "cell_type": "code",
      "execution_count": 5,
      "metadata": {
        "colab": {
          "base_uri": "https://localhost:8080/",
          "height": 206
        },
        "id": "b0bDxRL85Rnm",
        "outputId": "c8fbd321-8b90-47c8-cc3b-0b63c127f762"
      },
      "outputs": [
        {
          "output_type": "execute_result",
          "data": {
            "text/plain": [
              "   Unnamed: 0                               TITLE       GENRE  \\\n",
              "0           1       Oscar et la dame rose (2009)       drama    \n",
              "1           2                       Cupid (1997)    thriller    \n",
              "2           3   Young, Wild and Wonderful (1980)       adult    \n",
              "3           4              The Secret Sin (1915)       drama    \n",
              "4           5             The Unrecovered (2007)       drama    \n",
              "\n",
              "                                         DESCRIPTION  \n",
              "0   Listening in to a conversation between his do...  \n",
              "1   A brother and sister with a past incestuous r...  \n",
              "2   As the bus empties the students for their fie...  \n",
              "3   To help their unemployed father make ends mee...  \n",
              "4   The film's title refers not only to the un-re...  "
            ],
            "text/html": [
              "\n",
              "  <div id=\"df-ff7ff5e3-a079-4f1d-8d15-757a76d57d1d\" class=\"colab-df-container\">\n",
              "    <div>\n",
              "<style scoped>\n",
              "    .dataframe tbody tr th:only-of-type {\n",
              "        vertical-align: middle;\n",
              "    }\n",
              "\n",
              "    .dataframe tbody tr th {\n",
              "        vertical-align: top;\n",
              "    }\n",
              "\n",
              "    .dataframe thead th {\n",
              "        text-align: right;\n",
              "    }\n",
              "</style>\n",
              "<table border=\"1\" class=\"dataframe\">\n",
              "  <thead>\n",
              "    <tr style=\"text-align: right;\">\n",
              "      <th></th>\n",
              "      <th>Unnamed: 0</th>\n",
              "      <th>TITLE</th>\n",
              "      <th>GENRE</th>\n",
              "      <th>DESCRIPTION</th>\n",
              "    </tr>\n",
              "  </thead>\n",
              "  <tbody>\n",
              "    <tr>\n",
              "      <th>0</th>\n",
              "      <td>1</td>\n",
              "      <td>Oscar et la dame rose (2009)</td>\n",
              "      <td>drama</td>\n",
              "      <td>Listening in to a conversation between his do...</td>\n",
              "    </tr>\n",
              "    <tr>\n",
              "      <th>1</th>\n",
              "      <td>2</td>\n",
              "      <td>Cupid (1997)</td>\n",
              "      <td>thriller</td>\n",
              "      <td>A brother and sister with a past incestuous r...</td>\n",
              "    </tr>\n",
              "    <tr>\n",
              "      <th>2</th>\n",
              "      <td>3</td>\n",
              "      <td>Young, Wild and Wonderful (1980)</td>\n",
              "      <td>adult</td>\n",
              "      <td>As the bus empties the students for their fie...</td>\n",
              "    </tr>\n",
              "    <tr>\n",
              "      <th>3</th>\n",
              "      <td>4</td>\n",
              "      <td>The Secret Sin (1915)</td>\n",
              "      <td>drama</td>\n",
              "      <td>To help their unemployed father make ends mee...</td>\n",
              "    </tr>\n",
              "    <tr>\n",
              "      <th>4</th>\n",
              "      <td>5</td>\n",
              "      <td>The Unrecovered (2007)</td>\n",
              "      <td>drama</td>\n",
              "      <td>The film's title refers not only to the un-re...</td>\n",
              "    </tr>\n",
              "  </tbody>\n",
              "</table>\n",
              "</div>\n",
              "    <div class=\"colab-df-buttons\">\n",
              "\n",
              "  <div class=\"colab-df-container\">\n",
              "    <button class=\"colab-df-convert\" onclick=\"convertToInteractive('df-ff7ff5e3-a079-4f1d-8d15-757a76d57d1d')\"\n",
              "            title=\"Convert this dataframe to an interactive table.\"\n",
              "            style=\"display:none;\">\n",
              "\n",
              "  <svg xmlns=\"http://www.w3.org/2000/svg\" height=\"24px\" viewBox=\"0 -960 960 960\">\n",
              "    <path d=\"M120-120v-720h720v720H120Zm60-500h600v-160H180v160Zm220 220h160v-160H400v160Zm0 220h160v-160H400v160ZM180-400h160v-160H180v160Zm440 0h160v-160H620v160ZM180-180h160v-160H180v160Zm440 0h160v-160H620v160Z\"/>\n",
              "  </svg>\n",
              "    </button>\n",
              "\n",
              "  <style>\n",
              "    .colab-df-container {\n",
              "      display:flex;\n",
              "      gap: 12px;\n",
              "    }\n",
              "\n",
              "    .colab-df-convert {\n",
              "      background-color: #E8F0FE;\n",
              "      border: none;\n",
              "      border-radius: 50%;\n",
              "      cursor: pointer;\n",
              "      display: none;\n",
              "      fill: #1967D2;\n",
              "      height: 32px;\n",
              "      padding: 0 0 0 0;\n",
              "      width: 32px;\n",
              "    }\n",
              "\n",
              "    .colab-df-convert:hover {\n",
              "      background-color: #E2EBFA;\n",
              "      box-shadow: 0px 1px 2px rgba(60, 64, 67, 0.3), 0px 1px 3px 1px rgba(60, 64, 67, 0.15);\n",
              "      fill: #174EA6;\n",
              "    }\n",
              "\n",
              "    .colab-df-buttons div {\n",
              "      margin-bottom: 4px;\n",
              "    }\n",
              "\n",
              "    [theme=dark] .colab-df-convert {\n",
              "      background-color: #3B4455;\n",
              "      fill: #D2E3FC;\n",
              "    }\n",
              "\n",
              "    [theme=dark] .colab-df-convert:hover {\n",
              "      background-color: #434B5C;\n",
              "      box-shadow: 0px 1px 3px 1px rgba(0, 0, 0, 0.15);\n",
              "      filter: drop-shadow(0px 1px 2px rgba(0, 0, 0, 0.3));\n",
              "      fill: #FFFFFF;\n",
              "    }\n",
              "  </style>\n",
              "\n",
              "    <script>\n",
              "      const buttonEl =\n",
              "        document.querySelector('#df-ff7ff5e3-a079-4f1d-8d15-757a76d57d1d button.colab-df-convert');\n",
              "      buttonEl.style.display =\n",
              "        google.colab.kernel.accessAllowed ? 'block' : 'none';\n",
              "\n",
              "      async function convertToInteractive(key) {\n",
              "        const element = document.querySelector('#df-ff7ff5e3-a079-4f1d-8d15-757a76d57d1d');\n",
              "        const dataTable =\n",
              "          await google.colab.kernel.invokeFunction('convertToInteractive',\n",
              "                                                    [key], {});\n",
              "        if (!dataTable) return;\n",
              "\n",
              "        const docLinkHtml = 'Like what you see? Visit the ' +\n",
              "          '<a target=\"_blank\" href=https://colab.research.google.com/notebooks/data_table.ipynb>data table notebook</a>'\n",
              "          + ' to learn more about interactive tables.';\n",
              "        element.innerHTML = '';\n",
              "        dataTable['output_type'] = 'display_data';\n",
              "        await google.colab.output.renderOutput(dataTable, element);\n",
              "        const docLink = document.createElement('div');\n",
              "        docLink.innerHTML = docLinkHtml;\n",
              "        element.appendChild(docLink);\n",
              "      }\n",
              "    </script>\n",
              "  </div>\n",
              "\n",
              "\n",
              "<div id=\"df-3e799d73-fcdc-40cb-a9e7-54c258e73f17\">\n",
              "  <button class=\"colab-df-quickchart\" onclick=\"quickchart('df-3e799d73-fcdc-40cb-a9e7-54c258e73f17')\"\n",
              "            title=\"Suggest charts\"\n",
              "            style=\"display:none;\">\n",
              "\n",
              "<svg xmlns=\"http://www.w3.org/2000/svg\" height=\"24px\"viewBox=\"0 0 24 24\"\n",
              "     width=\"24px\">\n",
              "    <g>\n",
              "        <path d=\"M19 3H5c-1.1 0-2 .9-2 2v14c0 1.1.9 2 2 2h14c1.1 0 2-.9 2-2V5c0-1.1-.9-2-2-2zM9 17H7v-7h2v7zm4 0h-2V7h2v10zm4 0h-2v-4h2v4z\"/>\n",
              "    </g>\n",
              "</svg>\n",
              "  </button>\n",
              "\n",
              "<style>\n",
              "  .colab-df-quickchart {\n",
              "      --bg-color: #E8F0FE;\n",
              "      --fill-color: #1967D2;\n",
              "      --hover-bg-color: #E2EBFA;\n",
              "      --hover-fill-color: #174EA6;\n",
              "      --disabled-fill-color: #AAA;\n",
              "      --disabled-bg-color: #DDD;\n",
              "  }\n",
              "\n",
              "  [theme=dark] .colab-df-quickchart {\n",
              "      --bg-color: #3B4455;\n",
              "      --fill-color: #D2E3FC;\n",
              "      --hover-bg-color: #434B5C;\n",
              "      --hover-fill-color: #FFFFFF;\n",
              "      --disabled-bg-color: #3B4455;\n",
              "      --disabled-fill-color: #666;\n",
              "  }\n",
              "\n",
              "  .colab-df-quickchart {\n",
              "    background-color: var(--bg-color);\n",
              "    border: none;\n",
              "    border-radius: 50%;\n",
              "    cursor: pointer;\n",
              "    display: none;\n",
              "    fill: var(--fill-color);\n",
              "    height: 32px;\n",
              "    padding: 0;\n",
              "    width: 32px;\n",
              "  }\n",
              "\n",
              "  .colab-df-quickchart:hover {\n",
              "    background-color: var(--hover-bg-color);\n",
              "    box-shadow: 0 1px 2px rgba(60, 64, 67, 0.3), 0 1px 3px 1px rgba(60, 64, 67, 0.15);\n",
              "    fill: var(--button-hover-fill-color);\n",
              "  }\n",
              "\n",
              "  .colab-df-quickchart-complete:disabled,\n",
              "  .colab-df-quickchart-complete:disabled:hover {\n",
              "    background-color: var(--disabled-bg-color);\n",
              "    fill: var(--disabled-fill-color);\n",
              "    box-shadow: none;\n",
              "  }\n",
              "\n",
              "  .colab-df-spinner {\n",
              "    border: 2px solid var(--fill-color);\n",
              "    border-color: transparent;\n",
              "    border-bottom-color: var(--fill-color);\n",
              "    animation:\n",
              "      spin 1s steps(1) infinite;\n",
              "  }\n",
              "\n",
              "  @keyframes spin {\n",
              "    0% {\n",
              "      border-color: transparent;\n",
              "      border-bottom-color: var(--fill-color);\n",
              "      border-left-color: var(--fill-color);\n",
              "    }\n",
              "    20% {\n",
              "      border-color: transparent;\n",
              "      border-left-color: var(--fill-color);\n",
              "      border-top-color: var(--fill-color);\n",
              "    }\n",
              "    30% {\n",
              "      border-color: transparent;\n",
              "      border-left-color: var(--fill-color);\n",
              "      border-top-color: var(--fill-color);\n",
              "      border-right-color: var(--fill-color);\n",
              "    }\n",
              "    40% {\n",
              "      border-color: transparent;\n",
              "      border-right-color: var(--fill-color);\n",
              "      border-top-color: var(--fill-color);\n",
              "    }\n",
              "    60% {\n",
              "      border-color: transparent;\n",
              "      border-right-color: var(--fill-color);\n",
              "    }\n",
              "    80% {\n",
              "      border-color: transparent;\n",
              "      border-right-color: var(--fill-color);\n",
              "      border-bottom-color: var(--fill-color);\n",
              "    }\n",
              "    90% {\n",
              "      border-color: transparent;\n",
              "      border-bottom-color: var(--fill-color);\n",
              "    }\n",
              "  }\n",
              "</style>\n",
              "\n",
              "  <script>\n",
              "    async function quickchart(key) {\n",
              "      const quickchartButtonEl =\n",
              "        document.querySelector('#' + key + ' button');\n",
              "      quickchartButtonEl.disabled = true;  // To prevent multiple clicks.\n",
              "      quickchartButtonEl.classList.add('colab-df-spinner');\n",
              "      try {\n",
              "        const charts = await google.colab.kernel.invokeFunction(\n",
              "            'suggestCharts', [key], {});\n",
              "      } catch (error) {\n",
              "        console.error('Error during call to suggestCharts:', error);\n",
              "      }\n",
              "      quickchartButtonEl.classList.remove('colab-df-spinner');\n",
              "      quickchartButtonEl.classList.add('colab-df-quickchart-complete');\n",
              "    }\n",
              "    (() => {\n",
              "      let quickchartButtonEl =\n",
              "        document.querySelector('#df-3e799d73-fcdc-40cb-a9e7-54c258e73f17 button');\n",
              "      quickchartButtonEl.style.display =\n",
              "        google.colab.kernel.accessAllowed ? 'block' : 'none';\n",
              "    })();\n",
              "  </script>\n",
              "</div>\n",
              "\n",
              "    </div>\n",
              "  </div>\n"
            ],
            "application/vnd.google.colaboratory.intrinsic+json": {
              "type": "dataframe",
              "variable_name": "df_train",
              "summary": "{\n  \"name\": \"df_train\",\n  \"rows\": 5000,\n  \"fields\": [\n    {\n      \"column\": \"Unnamed: 0\",\n      \"properties\": {\n        \"dtype\": \"number\",\n        \"std\": 1443,\n        \"min\": 1,\n        \"max\": 5000,\n        \"num_unique_values\": 5000,\n        \"samples\": [\n          1502,\n          2587,\n          2654\n        ],\n        \"semantic_type\": \"\",\n        \"description\": \"\"\n      }\n    },\n    {\n      \"column\": \"TITLE\",\n      \"properties\": {\n        \"dtype\": \"string\",\n        \"num_unique_values\": 5000,\n        \"samples\": [\n          \" \\\"The Tube's Hautest\\\" (2014) \",\n          \" Kofi (2018) \",\n          \" Sold Out (2011) \"\n        ],\n        \"semantic_type\": \"\",\n        \"description\": \"\"\n      }\n    },\n    {\n      \"column\": \"GENRE\",\n      \"properties\": {\n        \"dtype\": \"category\",\n        \"num_unique_values\": 27,\n        \"samples\": [\n          \" sport \",\n          \" sci-fi \",\n          \" animation \"\n        ],\n        \"semantic_type\": \"\",\n        \"description\": \"\"\n      }\n    },\n    {\n      \"column\": \"DESCRIPTION\",\n      \"properties\": {\n        \"dtype\": \"string\",\n        \"num_unique_values\": 4998,\n        \"samples\": [\n          \" Fashion designer Gene and his buxom wife Debbie are a loving couple. Alas, Gene's secretary Elley goes for his privates in a locker room, and Debbie runs away after seeing them. After she faces Gene, Debbie gets together with her old acquaintance Tony. Meanwhile, a party goer hippie woman knocks by mistake on the couple's door, but decides to seduce their new hired Mexican chef Ric. Debbie's sister Cindy comes to visit and reminds Debbie how close they were. As important client Mssr. DuBois arrives for dinner, Cindy drugs the food. Already high herself, Cindy seduces chef Ric in the kitchen. With everybody else also high, Cindy goes for DuBois' privates. The only one who avoided the food was Debbie, who uses the chaos to run off with Tony who sneaked in earlier.\",\n          \" Meredith was promised nine years of safety, but they only gave her three. Her father, who was sent to prison for sexually abusing Meredith and other children in their small town, has been released on good behavior. He was supposed to be locked up until Meredith's eighteenth birthday, when she could legally be free of both her abusive father and her delusional mother who dwells on a fantasy that the three of them will be a happy family once more. But Meredith is only fifteen, and her father is out of prison... And her mother is bringing him home. And Meredith won't let him hurt her, or anyone else, ever again. No matter what the cost.\",\n          \" This is not a story about war. Returning home to 1960's Australia, the place he once called home, followed by memories an ocean away. The most unlikely companion, the only way to express the moments lived, ones regretted and lessons not yet learned. The journey not of a man, a family or a hero but of a life that lives through generations sharing stories when we lack the courage to tell them.\"\n        ],\n        \"semantic_type\": \"\",\n        \"description\": \"\"\n      }\n    }\n  ]\n}"
            }
          },
          "metadata": {},
          "execution_count": 5
        }
      ],
      "source": [
        "# Train Dataset\n",
        "df_train.head()"
      ]
    },
    {
      "cell_type": "code",
      "execution_count": 6,
      "metadata": {
        "colab": {
          "base_uri": "https://localhost:8080/",
          "height": 206
        },
        "id": "5QCCsektqMvD",
        "outputId": "8e4f6941-54d9-495f-c994-ecf729bb7434"
      },
      "outputs": [
        {
          "output_type": "execute_result",
          "data": {
            "text/plain": [
              "   Unnamed: 0                          TITLE          GENRE  \\\n",
              "0           1          Edgar's Lunch (1998)       thriller    \n",
              "1           2      La guerra de papá (1977)         comedy    \n",
              "2           3   Off the Beaten Track (2010)    documentary    \n",
              "3           4        Meu Amigo Hindu (2015)          drama    \n",
              "4           5             Er nu zhai (1955)          drama    \n",
              "\n",
              "                                         DESCRIPTION  \n",
              "0   L.R. Brane loves his life - his car, his apar...  \n",
              "1   Spain, March 1964: Quico is a very naughty ch...  \n",
              "2   One year in the life of Albin and his family ...  \n",
              "3   His father has died, he hasn't spoken with hi...  \n",
              "4   Before he was known internationally as a mart...  "
            ],
            "text/html": [
              "\n",
              "  <div id=\"df-977ea77b-bdff-47bb-8023-87808b59e2ee\" class=\"colab-df-container\">\n",
              "    <div>\n",
              "<style scoped>\n",
              "    .dataframe tbody tr th:only-of-type {\n",
              "        vertical-align: middle;\n",
              "    }\n",
              "\n",
              "    .dataframe tbody tr th {\n",
              "        vertical-align: top;\n",
              "    }\n",
              "\n",
              "    .dataframe thead th {\n",
              "        text-align: right;\n",
              "    }\n",
              "</style>\n",
              "<table border=\"1\" class=\"dataframe\">\n",
              "  <thead>\n",
              "    <tr style=\"text-align: right;\">\n",
              "      <th></th>\n",
              "      <th>Unnamed: 0</th>\n",
              "      <th>TITLE</th>\n",
              "      <th>GENRE</th>\n",
              "      <th>DESCRIPTION</th>\n",
              "    </tr>\n",
              "  </thead>\n",
              "  <tbody>\n",
              "    <tr>\n",
              "      <th>0</th>\n",
              "      <td>1</td>\n",
              "      <td>Edgar's Lunch (1998)</td>\n",
              "      <td>thriller</td>\n",
              "      <td>L.R. Brane loves his life - his car, his apar...</td>\n",
              "    </tr>\n",
              "    <tr>\n",
              "      <th>1</th>\n",
              "      <td>2</td>\n",
              "      <td>La guerra de papá (1977)</td>\n",
              "      <td>comedy</td>\n",
              "      <td>Spain, March 1964: Quico is a very naughty ch...</td>\n",
              "    </tr>\n",
              "    <tr>\n",
              "      <th>2</th>\n",
              "      <td>3</td>\n",
              "      <td>Off the Beaten Track (2010)</td>\n",
              "      <td>documentary</td>\n",
              "      <td>One year in the life of Albin and his family ...</td>\n",
              "    </tr>\n",
              "    <tr>\n",
              "      <th>3</th>\n",
              "      <td>4</td>\n",
              "      <td>Meu Amigo Hindu (2015)</td>\n",
              "      <td>drama</td>\n",
              "      <td>His father has died, he hasn't spoken with hi...</td>\n",
              "    </tr>\n",
              "    <tr>\n",
              "      <th>4</th>\n",
              "      <td>5</td>\n",
              "      <td>Er nu zhai (1955)</td>\n",
              "      <td>drama</td>\n",
              "      <td>Before he was known internationally as a mart...</td>\n",
              "    </tr>\n",
              "  </tbody>\n",
              "</table>\n",
              "</div>\n",
              "    <div class=\"colab-df-buttons\">\n",
              "\n",
              "  <div class=\"colab-df-container\">\n",
              "    <button class=\"colab-df-convert\" onclick=\"convertToInteractive('df-977ea77b-bdff-47bb-8023-87808b59e2ee')\"\n",
              "            title=\"Convert this dataframe to an interactive table.\"\n",
              "            style=\"display:none;\">\n",
              "\n",
              "  <svg xmlns=\"http://www.w3.org/2000/svg\" height=\"24px\" viewBox=\"0 -960 960 960\">\n",
              "    <path d=\"M120-120v-720h720v720H120Zm60-500h600v-160H180v160Zm220 220h160v-160H400v160Zm0 220h160v-160H400v160ZM180-400h160v-160H180v160Zm440 0h160v-160H620v160ZM180-180h160v-160H180v160Zm440 0h160v-160H620v160Z\"/>\n",
              "  </svg>\n",
              "    </button>\n",
              "\n",
              "  <style>\n",
              "    .colab-df-container {\n",
              "      display:flex;\n",
              "      gap: 12px;\n",
              "    }\n",
              "\n",
              "    .colab-df-convert {\n",
              "      background-color: #E8F0FE;\n",
              "      border: none;\n",
              "      border-radius: 50%;\n",
              "      cursor: pointer;\n",
              "      display: none;\n",
              "      fill: #1967D2;\n",
              "      height: 32px;\n",
              "      padding: 0 0 0 0;\n",
              "      width: 32px;\n",
              "    }\n",
              "\n",
              "    .colab-df-convert:hover {\n",
              "      background-color: #E2EBFA;\n",
              "      box-shadow: 0px 1px 2px rgba(60, 64, 67, 0.3), 0px 1px 3px 1px rgba(60, 64, 67, 0.15);\n",
              "      fill: #174EA6;\n",
              "    }\n",
              "\n",
              "    .colab-df-buttons div {\n",
              "      margin-bottom: 4px;\n",
              "    }\n",
              "\n",
              "    [theme=dark] .colab-df-convert {\n",
              "      background-color: #3B4455;\n",
              "      fill: #D2E3FC;\n",
              "    }\n",
              "\n",
              "    [theme=dark] .colab-df-convert:hover {\n",
              "      background-color: #434B5C;\n",
              "      box-shadow: 0px 1px 3px 1px rgba(0, 0, 0, 0.15);\n",
              "      filter: drop-shadow(0px 1px 2px rgba(0, 0, 0, 0.3));\n",
              "      fill: #FFFFFF;\n",
              "    }\n",
              "  </style>\n",
              "\n",
              "    <script>\n",
              "      const buttonEl =\n",
              "        document.querySelector('#df-977ea77b-bdff-47bb-8023-87808b59e2ee button.colab-df-convert');\n",
              "      buttonEl.style.display =\n",
              "        google.colab.kernel.accessAllowed ? 'block' : 'none';\n",
              "\n",
              "      async function convertToInteractive(key) {\n",
              "        const element = document.querySelector('#df-977ea77b-bdff-47bb-8023-87808b59e2ee');\n",
              "        const dataTable =\n",
              "          await google.colab.kernel.invokeFunction('convertToInteractive',\n",
              "                                                    [key], {});\n",
              "        if (!dataTable) return;\n",
              "\n",
              "        const docLinkHtml = 'Like what you see? Visit the ' +\n",
              "          '<a target=\"_blank\" href=https://colab.research.google.com/notebooks/data_table.ipynb>data table notebook</a>'\n",
              "          + ' to learn more about interactive tables.';\n",
              "        element.innerHTML = '';\n",
              "        dataTable['output_type'] = 'display_data';\n",
              "        await google.colab.output.renderOutput(dataTable, element);\n",
              "        const docLink = document.createElement('div');\n",
              "        docLink.innerHTML = docLinkHtml;\n",
              "        element.appendChild(docLink);\n",
              "      }\n",
              "    </script>\n",
              "  </div>\n",
              "\n",
              "\n",
              "<div id=\"df-e0d01452-9ebc-41f3-98a1-b04697a6b5de\">\n",
              "  <button class=\"colab-df-quickchart\" onclick=\"quickchart('df-e0d01452-9ebc-41f3-98a1-b04697a6b5de')\"\n",
              "            title=\"Suggest charts\"\n",
              "            style=\"display:none;\">\n",
              "\n",
              "<svg xmlns=\"http://www.w3.org/2000/svg\" height=\"24px\"viewBox=\"0 0 24 24\"\n",
              "     width=\"24px\">\n",
              "    <g>\n",
              "        <path d=\"M19 3H5c-1.1 0-2 .9-2 2v14c0 1.1.9 2 2 2h14c1.1 0 2-.9 2-2V5c0-1.1-.9-2-2-2zM9 17H7v-7h2v7zm4 0h-2V7h2v10zm4 0h-2v-4h2v4z\"/>\n",
              "    </g>\n",
              "</svg>\n",
              "  </button>\n",
              "\n",
              "<style>\n",
              "  .colab-df-quickchart {\n",
              "      --bg-color: #E8F0FE;\n",
              "      --fill-color: #1967D2;\n",
              "      --hover-bg-color: #E2EBFA;\n",
              "      --hover-fill-color: #174EA6;\n",
              "      --disabled-fill-color: #AAA;\n",
              "      --disabled-bg-color: #DDD;\n",
              "  }\n",
              "\n",
              "  [theme=dark] .colab-df-quickchart {\n",
              "      --bg-color: #3B4455;\n",
              "      --fill-color: #D2E3FC;\n",
              "      --hover-bg-color: #434B5C;\n",
              "      --hover-fill-color: #FFFFFF;\n",
              "      --disabled-bg-color: #3B4455;\n",
              "      --disabled-fill-color: #666;\n",
              "  }\n",
              "\n",
              "  .colab-df-quickchart {\n",
              "    background-color: var(--bg-color);\n",
              "    border: none;\n",
              "    border-radius: 50%;\n",
              "    cursor: pointer;\n",
              "    display: none;\n",
              "    fill: var(--fill-color);\n",
              "    height: 32px;\n",
              "    padding: 0;\n",
              "    width: 32px;\n",
              "  }\n",
              "\n",
              "  .colab-df-quickchart:hover {\n",
              "    background-color: var(--hover-bg-color);\n",
              "    box-shadow: 0 1px 2px rgba(60, 64, 67, 0.3), 0 1px 3px 1px rgba(60, 64, 67, 0.15);\n",
              "    fill: var(--button-hover-fill-color);\n",
              "  }\n",
              "\n",
              "  .colab-df-quickchart-complete:disabled,\n",
              "  .colab-df-quickchart-complete:disabled:hover {\n",
              "    background-color: var(--disabled-bg-color);\n",
              "    fill: var(--disabled-fill-color);\n",
              "    box-shadow: none;\n",
              "  }\n",
              "\n",
              "  .colab-df-spinner {\n",
              "    border: 2px solid var(--fill-color);\n",
              "    border-color: transparent;\n",
              "    border-bottom-color: var(--fill-color);\n",
              "    animation:\n",
              "      spin 1s steps(1) infinite;\n",
              "  }\n",
              "\n",
              "  @keyframes spin {\n",
              "    0% {\n",
              "      border-color: transparent;\n",
              "      border-bottom-color: var(--fill-color);\n",
              "      border-left-color: var(--fill-color);\n",
              "    }\n",
              "    20% {\n",
              "      border-color: transparent;\n",
              "      border-left-color: var(--fill-color);\n",
              "      border-top-color: var(--fill-color);\n",
              "    }\n",
              "    30% {\n",
              "      border-color: transparent;\n",
              "      border-left-color: var(--fill-color);\n",
              "      border-top-color: var(--fill-color);\n",
              "      border-right-color: var(--fill-color);\n",
              "    }\n",
              "    40% {\n",
              "      border-color: transparent;\n",
              "      border-right-color: var(--fill-color);\n",
              "      border-top-color: var(--fill-color);\n",
              "    }\n",
              "    60% {\n",
              "      border-color: transparent;\n",
              "      border-right-color: var(--fill-color);\n",
              "    }\n",
              "    80% {\n",
              "      border-color: transparent;\n",
              "      border-right-color: var(--fill-color);\n",
              "      border-bottom-color: var(--fill-color);\n",
              "    }\n",
              "    90% {\n",
              "      border-color: transparent;\n",
              "      border-bottom-color: var(--fill-color);\n",
              "    }\n",
              "  }\n",
              "</style>\n",
              "\n",
              "  <script>\n",
              "    async function quickchart(key) {\n",
              "      const quickchartButtonEl =\n",
              "        document.querySelector('#' + key + ' button');\n",
              "      quickchartButtonEl.disabled = true;  // To prevent multiple clicks.\n",
              "      quickchartButtonEl.classList.add('colab-df-spinner');\n",
              "      try {\n",
              "        const charts = await google.colab.kernel.invokeFunction(\n",
              "            'suggestCharts', [key], {});\n",
              "      } catch (error) {\n",
              "        console.error('Error during call to suggestCharts:', error);\n",
              "      }\n",
              "      quickchartButtonEl.classList.remove('colab-df-spinner');\n",
              "      quickchartButtonEl.classList.add('colab-df-quickchart-complete');\n",
              "    }\n",
              "    (() => {\n",
              "      let quickchartButtonEl =\n",
              "        document.querySelector('#df-e0d01452-9ebc-41f3-98a1-b04697a6b5de button');\n",
              "      quickchartButtonEl.style.display =\n",
              "        google.colab.kernel.accessAllowed ? 'block' : 'none';\n",
              "    })();\n",
              "  </script>\n",
              "</div>\n",
              "\n",
              "    </div>\n",
              "  </div>\n"
            ],
            "application/vnd.google.colaboratory.intrinsic+json": {
              "type": "dataframe",
              "variable_name": "df_test",
              "summary": "{\n  \"name\": \"df_test\",\n  \"rows\": 5000,\n  \"fields\": [\n    {\n      \"column\": \"Unnamed: 0\",\n      \"properties\": {\n        \"dtype\": \"number\",\n        \"std\": 1443,\n        \"min\": 1,\n        \"max\": 5000,\n        \"num_unique_values\": 5000,\n        \"samples\": [\n          1502,\n          2587,\n          2654\n        ],\n        \"semantic_type\": \"\",\n        \"description\": \"\"\n      }\n    },\n    {\n      \"column\": \"TITLE\",\n      \"properties\": {\n        \"dtype\": \"string\",\n        \"num_unique_values\": 5000,\n        \"samples\": [\n          \" Virtual Desire (1995) \",\n          \" Of Hopscotch and Little Girls: Stolen Childhood (1999) \",\n          \" Hunters Are for Killing (1970) \"\n        ],\n        \"semantic_type\": \"\",\n        \"description\": \"\"\n      }\n    },\n    {\n      \"column\": \"GENRE\",\n      \"properties\": {\n        \"dtype\": \"category\",\n        \"num_unique_values\": 27,\n        \"samples\": [\n          \" sport \",\n          \" adult \",\n          \" romance \"\n        ],\n        \"semantic_type\": \"\",\n        \"description\": \"\"\n      }\n    },\n    {\n      \"column\": \"DESCRIPTION\",\n      \"properties\": {\n        \"dtype\": \"string\",\n        \"num_unique_values\": 4997,\n        \"samples\": [\n          \" Four friends chasing a similar dream living in one house in L.A. They eventually take a nose dive into regularity, and realize just how tough it is to \\\"make it in L.A.\\\" With drugs and alcohol fueling their child-like mentality, the boys get in over their heads with each new adventure.\",\n          \" Aiyun Huang's DVD, \\\"Save Percussion Theater,\\\" is a video-recording of theater music for percussion dedicated to the pioneering work of the Parisian group \\\"Trio Le Cercle,\\\" for whom many of these works written and by whom they have been championed. This recording, in essence a document of the complete percussion works from the French school of theater music, is an ambitious undertaking.\",\n          \" \\\"David Lea's Fight Camp\\\" takes viewers inside the world of the fastest growing combat sport on the planet, Mixed Martial Arts, showcasing the warriors and their struggles to fulfill their dreams as professional fighters. It gives an in-depth look at the emotional stories behind the fighters, and the reasons why they do what they do. The series follows Toshido Mixed Martial Arts founder, David Lea, who started training professional fighters 12 years ago, as he gets his team physically and emotionally prepared for the realities of professional MMA competition. Under David's world-class guidance, Team Toshido has won numerous National titles, a World title, and has fighters competing at the highest levels of the sport. Come join \\\"David Lea's Fight Camp\\\" on a never before seen journey into the dramatic victories and defeats of modern day gladiators.\"\n        ],\n        \"semantic_type\": \"\",\n        \"description\": \"\"\n      }\n    }\n  ]\n}"
            }
          },
          "metadata": {},
          "execution_count": 6
        }
      ],
      "source": [
        "# Test Dataset\n",
        "df_test.head()"
      ]
    },
    {
      "cell_type": "code",
      "execution_count": 7,
      "metadata": {
        "colab": {
          "base_uri": "https://localhost:8080/"
        },
        "id": "tMsoSL2TtC7v",
        "outputId": "a2c46904-9928-418a-8185-01ad4d1fba0c"
      },
      "outputs": [
        {
          "output_type": "stream",
          "name": "stdout",
          "text": [
            "Train Dataset:  (5000, 4)\n",
            "Test Dataset:  (5000, 4)\n"
          ]
        }
      ],
      "source": [
        "# Shape of Datasets\n",
        "print('Train Dataset: ', df_train.shape)\n",
        "print('Test Dataset: ', df_test.shape)"
      ]
    },
    {
      "cell_type": "code",
      "execution_count": 8,
      "metadata": {
        "colab": {
          "base_uri": "https://localhost:8080/"
        },
        "id": "HNdJNLmay0Tt",
        "outputId": "23ca5517-61f4-4ff7-d279-e3b370bf49bf"
      },
      "outputs": [
        {
          "output_type": "stream",
          "name": "stdout",
          "text": [
            "Index(['Unnamed: 0', 'TITLE', 'GENRE', 'DESCRIPTION'], dtype='object') \n",
            "\n",
            "Index(['Unnamed: 0', 'TITLE', 'GENRE', 'DESCRIPTION'], dtype='object') \n",
            "\n"
          ]
        }
      ],
      "source": [
        "# Column Names\n",
        "for i in [df_train, df_test]:\n",
        "  print(i.columns, '\\n')"
      ]
    },
    {
      "cell_type": "code",
      "execution_count": 9,
      "metadata": {
        "colab": {
          "base_uri": "https://localhost:8080/"
        },
        "id": "me7UClu5wCMg",
        "outputId": "e4733c78-948f-4e2c-d72d-400759e4ce77"
      },
      "outputs": [
        {
          "output_type": "stream",
          "name": "stdout",
          "text": [
            "<class 'pandas.core.frame.DataFrame'>\n",
            "RangeIndex: 5000 entries, 0 to 4999\n",
            "Data columns (total 4 columns):\n",
            " #   Column       Non-Null Count  Dtype \n",
            "---  ------       --------------  ----- \n",
            " 0   Unnamed: 0   5000 non-null   int64 \n",
            " 1   TITLE        5000 non-null   object\n",
            " 2   GENRE        5000 non-null   object\n",
            " 3   DESCRIPTION  5000 non-null   object\n",
            "dtypes: int64(1), object(3)\n",
            "memory usage: 156.4+ KB\n",
            "None \n",
            " ---------------------------------------------------------------------------------------------------- \n",
            "\n",
            "<class 'pandas.core.frame.DataFrame'>\n",
            "RangeIndex: 5000 entries, 0 to 4999\n",
            "Data columns (total 4 columns):\n",
            " #   Column       Non-Null Count  Dtype \n",
            "---  ------       --------------  ----- \n",
            " 0   Unnamed: 0   5000 non-null   int64 \n",
            " 1   TITLE        5000 non-null   object\n",
            " 2   GENRE        5000 non-null   object\n",
            " 3   DESCRIPTION  5000 non-null   object\n",
            "dtypes: int64(1), object(3)\n",
            "memory usage: 156.4+ KB\n",
            "None\n"
          ]
        }
      ],
      "source": [
        "# Information of Datasets\n",
        "print(df_train.info(), '\\n', '-'*100, '\\n')\n",
        "print(df_train.info())"
      ]
    },
    {
      "cell_type": "markdown",
      "metadata": {
        "id": "2yMnoS000nYd"
      },
      "source": [
        "## Data Cleaning"
      ]
    },
    {
      "cell_type": "code",
      "execution_count": 10,
      "metadata": {
        "colab": {
          "base_uri": "https://localhost:8080/"
        },
        "id": "ldlP9qEoxp70",
        "outputId": "ae79b715-139e-4208-b1d6-e3e0f102f444"
      },
      "outputs": [
        {
          "output_type": "stream",
          "name": "stdout",
          "text": [
            "Unnamed: 0     0\n",
            "TITLE          0\n",
            "GENRE          0\n",
            "DESCRIPTION    0\n",
            "dtype: int64 \n",
            " ---------------------------------------------------------------------------------------------------- \n",
            "\n",
            "Unnamed: 0     0\n",
            "TITLE          0\n",
            "GENRE          0\n",
            "DESCRIPTION    0\n",
            "dtype: int64 \n",
            " ---------------------------------------------------------------------------------------------------- \n",
            "\n"
          ]
        }
      ],
      "source": [
        "# Checking Null Values\n",
        "for i in [df_train, df_test]:\n",
        "  print(i.isna().sum(), '\\n', '-'*100, '\\n')"
      ]
    },
    {
      "cell_type": "code",
      "execution_count": 11,
      "metadata": {
        "id": "hd36pcj7CGyK"
      },
      "outputs": [],
      "source": [
        "# There is one irrelavant column to drop"
      ]
    },
    {
      "cell_type": "code",
      "execution_count": 12,
      "metadata": {
        "colab": {
          "base_uri": "https://localhost:8080/"
        },
        "id": "1mIqNzDN1lv3",
        "outputId": "31d4ee8c-16f6-42b7-e0ed-fa21c8ca3eb9"
      },
      "outputs": [
        {
          "output_type": "stream",
          "name": "stdout",
          "text": [
            "0 \n",
            "\n",
            "0 \n",
            "\n"
          ]
        }
      ],
      "source": [
        "# Checking Duplicates\n",
        "for i in [df_train, df_test]:\n",
        "  print(i.duplicated().sum(), '\\n')"
      ]
    },
    {
      "cell_type": "markdown",
      "metadata": {
        "id": "GT73L2uP7AJ4"
      },
      "source": [
        "## Data Formating"
      ]
    },
    {
      "cell_type": "code",
      "execution_count": 13,
      "metadata": {
        "id": "C4qQlDb68NiI"
      },
      "outputs": [],
      "source": [
        "# Drop Unnecessary Columns\n",
        "for i in [df_train, df_test]:\n",
        "  i.drop('Unnamed: 0', axis= 1, inplace= True)"
      ]
    },
    {
      "cell_type": "code",
      "execution_count": 14,
      "metadata": {
        "id": "IeaIQC734F_P"
      },
      "outputs": [],
      "source": [
        "# Renaming the columns for better readability\n",
        "for i in [df_train, df_test]:\n",
        "  i.columns = ['title', 'genre', 'description']\n",
        "\n",
        "df_test.rename(columns= {'TITLE' : 'title', 'DESCRIPTION' : 'description'}, inplace= True)"
      ]
    },
    {
      "cell_type": "code",
      "execution_count": 15,
      "metadata": {
        "id": "86kY_nG97Nn1"
      },
      "outputs": [],
      "source": [
        "# There is no need to change any column's data type."
      ]
    },
    {
      "cell_type": "markdown",
      "metadata": {
        "id": "D1uVYzsD94ct"
      },
      "source": [
        "## Exploratory Data Analysis"
      ]
    },
    {
      "cell_type": "code",
      "execution_count": 16,
      "metadata": {
        "colab": {
          "base_uri": "https://localhost:8080/"
        },
        "id": "2jCY0Cnk-36p",
        "outputId": "83aaf6e3-b8ca-4654-d98e-7bb7f638ad3f"
      },
      "outputs": [
        {
          "output_type": "stream",
          "name": "stdout",
          "text": [
            "                                 title    genre  \\\n",
            "count                             5000     5000   \n",
            "unique                            5000       27   \n",
            "top      Oscar et la dame rose (2009)    drama    \n",
            "freq                                 1     1252   \n",
            "\n",
            "                                              description  \n",
            "count                                                5000  \n",
            "unique                                               4998  \n",
            "top      Olga, Masha, and Irina Prozoroff lead lonely ...  \n",
            "freq                                                    2   \n",
            " ---------------------------------------------------------------------------------------------------- \n",
            "\n",
            "                         title    genre  \\\n",
            "count                     5000     5000   \n",
            "unique                    5000       27   \n",
            "top      Edgar's Lunch (1998)    drama    \n",
            "freq                         1     1314   \n",
            "\n",
            "                                              description  \n",
            "count                                                5000  \n",
            "unique                                               4997  \n",
            "top      Viola and Sebastian are lookalike twins, sepa...  \n",
            "freq                                                    2   \n",
            " ---------------------------------------------------------------------------------------------------- \n",
            "\n"
          ]
        }
      ],
      "source": [
        "# Descriptive Analysis\n",
        "for i in [df_train, df_test]:\n",
        "  print(i.describe(include= 'O'), '\\n', '-'*100, '\\n')"
      ]
    },
    {
      "cell_type": "code",
      "execution_count": 17,
      "metadata": {
        "colab": {
          "base_uri": "https://localhost:8080/"
        },
        "id": "dJv9aFeN9DRk",
        "outputId": "5dd80d94-f8b7-411d-e084-6158730f819b"
      },
      "outputs": [
        {
          "output_type": "execute_result",
          "data": {
            "text/plain": [
              " drama           1252\n",
              " documentary     1198\n",
              " comedy           701\n",
              " short            470\n",
              " horror           189\n",
              " thriller         171\n",
              " action           121\n",
              " western           93\n",
              " reality-tv        83\n",
              " family            72\n",
              " sci-fi            70\n",
              " adventure         68\n",
              " music             61\n",
              " adult             58\n",
              " animation         48\n",
              " romance           48\n",
              " sport             43\n",
              " crime             38\n",
              " fantasy           33\n",
              " talk-show         33\n",
              " biography         32\n",
              " mystery           31\n",
              " history           23\n",
              " game-show         19\n",
              " musical           19\n",
              " news              16\n",
              " war               10\n",
              "Name: genre, dtype: int64"
            ]
          },
          "metadata": {},
          "execution_count": 17
        }
      ],
      "source": [
        "#Count each genre value\n",
        "df_train.genre.value_counts()"
      ]
    },
    {
      "cell_type": "code",
      "execution_count": 18,
      "metadata": {
        "colab": {
          "base_uri": "https://localhost:8080/",
          "height": 1000
        },
        "id": "JxIK_FEv_nYC",
        "outputId": "3524bc65-5b5d-4b72-9e70-ced6dc3cb4e4"
      },
      "outputs": [
        {
          "output_type": "execute_result",
          "data": {
            "text/plain": [
              "([0,\n",
              "  1,\n",
              "  2,\n",
              "  3,\n",
              "  4,\n",
              "  5,\n",
              "  6,\n",
              "  7,\n",
              "  8,\n",
              "  9,\n",
              "  10,\n",
              "  11,\n",
              "  12,\n",
              "  13,\n",
              "  14,\n",
              "  15,\n",
              "  16,\n",
              "  17,\n",
              "  18,\n",
              "  19,\n",
              "  20,\n",
              "  21,\n",
              "  22,\n",
              "  23,\n",
              "  24,\n",
              "  25,\n",
              "  26],\n",
              " [Text(0, 0, ' drama '),\n",
              "  Text(1, 0, ' documentary '),\n",
              "  Text(2, 0, ' comedy '),\n",
              "  Text(3, 0, ' short '),\n",
              "  Text(4, 0, ' horror '),\n",
              "  Text(5, 0, ' thriller '),\n",
              "  Text(6, 0, ' action '),\n",
              "  Text(7, 0, ' western '),\n",
              "  Text(8, 0, ' reality-tv '),\n",
              "  Text(9, 0, ' family '),\n",
              "  Text(10, 0, ' sci-fi '),\n",
              "  Text(11, 0, ' adventure '),\n",
              "  Text(12, 0, ' music '),\n",
              "  Text(13, 0, ' adult '),\n",
              "  Text(14, 0, ' animation '),\n",
              "  Text(15, 0, ' romance '),\n",
              "  Text(16, 0, ' sport '),\n",
              "  Text(17, 0, ' crime '),\n",
              "  Text(18, 0, ' fantasy '),\n",
              "  Text(19, 0, ' talk-show '),\n",
              "  Text(20, 0, ' biography '),\n",
              "  Text(21, 0, ' mystery '),\n",
              "  Text(22, 0, ' history '),\n",
              "  Text(23, 0, ' game-show '),\n",
              "  Text(24, 0, ' musical '),\n",
              "  Text(25, 0, ' news '),\n",
              "  Text(26, 0, ' war ')])"
            ]
          },
          "metadata": {},
          "execution_count": 18
        },
        {
          "output_type": "display_data",
          "data": {
            "text/plain": [
              "<Figure size 1200x800 with 1 Axes>"
            ],
            "image/png": "[encoded data removed]"
          },
          "metadata": {}
        }
      ],
      "source": [
        "# Plot count plot\n",
        "plt.figure(figsize=(12,8))\n",
        "counts = df_train['genre'].value_counts()\n",
        "sns.barplot(x=counts.index, y=counts, color='blue')\n",
        "plt.xlabel('Genre' ,fontsize=14, fontweight='bold')\n",
        "plt.ylabel('Count', fontsize=14, fontweight='bold')\n",
        "plt.title('Distribution of Genres', fontsize=16, fontweight='bold')\n",
        "plt.xticks(rotation=90, fontsize=14, fontweight='bold')"
      ]
    },
    {
      "cell_type": "code",
      "execution_count": 19,
      "metadata": {
        "colab": {
          "base_uri": "https://localhost:8080/",
          "height": 600
        },
        "id": "uziSqBp27zMV",
        "outputId": "a7e44030-b813-4dba-d838-e9d5765d46c5"
      },
      "outputs": [
        {
          "output_type": "execute_result",
          "data": {
            "text/plain": [
              "Text(0, 0.5, 'genre')"
            ]
          },
          "metadata": {},
          "execution_count": 19
        },
        {
          "output_type": "display_data",
          "data": {
            "text/plain": [
              "<Figure size 1400x700 with 1 Axes>"
            ],
            "image/png": "[encoded data removed]"
          },
          "metadata": {}
        }
      ],
      "source": [
        "# Plot the distribution of genres in the training data\n",
        "plt.figure(figsize=(14, 7))\n",
        "sns.countplot(df_train, y= 'genre', order= df_train['genre'].value_counts().index, palette= 'viridis')\n",
        "plt.xlabel('count', fontsize=14, fontweight= 'bold')\n",
        "plt.ylabel('genre', fontsize=14, fontweight= 'bold')"
      ]
    },
    {
      "cell_type": "code",
      "execution_count": 20,
      "metadata": {
        "colab": {
          "base_uri": "https://localhost:8080/",
          "height": 781
        },
        "id": "7k2CQnlmAbK7",
        "outputId": "f3085caa-f840-48ef-81e9-8a005b5f51d2"
      },
      "outputs": [
        {
          "output_type": "display_data",
          "data": {
            "text/plain": [
              "<Figure size 1400x700 with 1 Axes>"
            ],
            "image/png": "[encoded data removed]"
          },
          "metadata": {}
        }
      ],
      "source": [
        "# Plot the distribution of genres using a bar plot\n",
        "plt.figure(figsize=(14, 7))\n",
        "counts = df_train['genre'].value_counts()\n",
        "sns.barplot(x=counts.index, y=counts, palette='viridis')\n",
        "plt.xlabel('Genre', fontsize=14, fontweight='bold')\n",
        "plt.ylabel('Count', fontsize=14, fontweight='bold')\n",
        "plt.title('Distribution of Genres', fontsize=16, fontweight='bold')\n",
        "plt.xticks(rotation=90, fontsize=14, fontweight='bold')\n",
        "plt.show()"
      ]
    },
    {
      "cell_type": "markdown",
      "metadata": {
        "id": "dfG_1HhVB7Lk"
      },
      "source": [
        "## **Predictive Analysis**"
      ]
    },
    {
      "cell_type": "markdown",
      "metadata": {
        "id": "bDSXe7B3D1B0"
      },
      "source": [
        "Let's start building different Machine Learning models and train them."
      ]
    },
    {
      "cell_type": "code",
      "execution_count": 21,
      "metadata": {
        "colab": {
          "base_uri": "https://localhost:8080/"
        },
        "id": "qZaNOmqaDvzx",
        "outputId": "0274a00a-df34-44a8-e79f-426c142f4c22"
      },
      "outputs": [
        {
          "output_type": "execute_result",
          "data": {
            "text/plain": [
              " drama           0.2504\n",
              " documentary     0.2396\n",
              " comedy          0.1402\n",
              " short           0.0940\n",
              " horror          0.0378\n",
              " thriller        0.0342\n",
              " action          0.0242\n",
              " western         0.0186\n",
              " reality-tv      0.0166\n",
              " family          0.0144\n",
              " sci-fi          0.0140\n",
              " adventure       0.0136\n",
              " music           0.0122\n",
              " adult           0.0116\n",
              " animation       0.0096\n",
              " romance         0.0096\n",
              " sport           0.0086\n",
              " crime           0.0076\n",
              " fantasy         0.0066\n",
              " talk-show       0.0066\n",
              " biography       0.0064\n",
              " mystery         0.0062\n",
              " history         0.0046\n",
              " game-show       0.0038\n",
              " musical         0.0038\n",
              " news            0.0032\n",
              " war             0.0020\n",
              "Name: genre, dtype: float64"
            ]
          },
          "metadata": {},
          "execution_count": 21
        }
      ],
      "source": [
        "# Plotting and Checking if the data is imbalanced or not\n",
        "data_bal = df_train['genre'].value_counts(normalize= True)\n",
        "data_bal"
      ]
    },
    {
      "cell_type": "markdown",
      "metadata": {
        "id": "-tRbLbwPlbol"
      },
      "source": [
        "### Data Preprocessing / Text Preprocessing"
      ]
    },
    {
      "cell_type": "markdown",
      "metadata": {
        "id": "67EYfGybx1cY"
      },
      "source": [
        "1. Text Cleaning:\n",
        "* Remove unnecessary characters(emojis, url, html tags, punctuation, numbers, chat words)\n",
        "* tokenization\n",
        "* stopwords\n",
        "* apply stemming or lemmatization.\n",
        "2. Feature Engineering:\n",
        "* Vectorization: Convert text data into numerical format using techniques like TF-IDF or CountVectorizer, which are essential for machine learning models to process text data.\n",
        "* Encoding\n"
      ]
    },
    {
      "cell_type": "markdown",
      "metadata": {
        "id": "CobeMcbXF_en"
      },
      "source": [
        "Text Cleaning"
      ]
    },
    {
      "cell_type": "code",
      "execution_count": 22,
      "metadata": {
        "colab": {
          "base_uri": "https://localhost:8080/"
        },
        "id": "uf3rL8XjFBFQ",
        "outputId": "3a8dda3c-76cb-4d5e-d4a9-5d7f687cc0a5"
      },
      "outputs": [
        {
          "output_type": "stream",
          "name": "stderr",
          "text": [
            "[nltk_data] Downloading package stopwords to /root/nltk_data...\n",
            "[nltk_data]   Package stopwords is already up-to-date!\n"
          ]
        },
        {
          "output_type": "stream",
          "name": "stdout",
          "text": [
            "                                title       genre  \\\n",
            "0       Oscar et la dame rose (2009)       drama    \n",
            "1                       Cupid (1997)    thriller    \n",
            "2   Young, Wild and Wonderful (1980)       adult    \n",
            "3              The Secret Sin (1915)       drama    \n",
            "4             The Unrecovered (2007)       drama    \n",
            "\n",
            "                                         description  \\\n",
            "0   Listening in to a conversation between his do...   \n",
            "1   A brother and sister with a past incestuous r...   \n",
            "2   As the bus empties the students for their fie...   \n",
            "3   To help their unemployed father make ends mee...   \n",
            "4   The film's title refers not only to the un-re...   \n",
            "\n",
            "                                        cleaned_text  \n",
            "0  listen conversation doctor parent year old osc...  \n",
            "1  brother sister past incestuous relationship cu...  \n",
            "2  bus empty student field trip museum natural hi...  \n",
            "3  help unemployed father make end meet edith twi...  \n",
            "4  film title refer un recover body grind zero al...   \n",
            "\n",
            "                           title          genre  \\\n",
            "0          Edgar's Lunch (1998)       thriller    \n",
            "1      La guerra de papá (1977)         comedy    \n",
            "2   Off the Beaten Track (2010)    documentary    \n",
            "3        Meu Amigo Hindu (2015)          drama    \n",
            "4             Er nu zhai (1955)          drama    \n",
            "\n",
            "                                         description  \\\n",
            "0   L.R. Brane loves his life - his car, his apar...   \n",
            "1   Spain, March 1964: Quico is a very naughty ch...   \n",
            "2   One year in the life of Albin and his family ...   \n",
            "3   His father has died, he hasn't spoken with hi...   \n",
            "4   Before he was known internationally as a mart...   \n",
            "\n",
            "                                        cleaned_text  \n",
            "0  r brane love life car apartment job especially...  \n",
            "1  spain march quico naughty child three belong w...  \n",
            "2  one year life albin family shepherd north tran...  \n",
            "3  father die have not speak brother year serious...  \n",
            "4  know internationally martial art superstar bru...  \n"
          ]
        }
      ],
      "source": [
        "# Initialize the stemmer/lemmatizer, spacy, punctuation and stop words\n",
        "lemmatizer = WordNetLemmatizer()\n",
        "nltk.download('stopwords')\n",
        "stop_words = set(stopwords.words('english'))\n",
        "nlp = spacy.load('en_core_web_sm')\n",
        "punctuation_list = string.punctuation\n",
        "\n",
        "# Define the clean_text function\n",
        "def clean_text(text):\n",
        "  text = text.lower() # Lowercase all characters\n",
        "  text = re.sub('<.*?>', ' ', text) # Removing HTML tags\n",
        "  text = re.sub('https?://\\S+|www.\\.\\S+', ' ', text) # Removing URL\n",
        "  text = re.sub('@\\S+', ' ', text) # Removing twitter handles\n",
        "  text = re.sub('.pic\\S+', ' ', text)\n",
        "  text = re.sub(\"[^a-zA-Z+']\", ' ', text) # Keep only characters\n",
        "  text = re.sub('\\s+[a-zA-Z]\\s+', ' ', text + ' ') # Keep words with length > 1 only\n",
        "  text = ''.join([char for char in text if char not in punctuation_list]) # for char in punctuation_list: text = text.replace(char, ' ')\n",
        "  text = ' '.join([word for word in text.split() if word not in stop_words]) # Removing Stopwords\n",
        "  text = nlp(text) # Tokenization\n",
        "  doc = nlp(text)\n",
        "  text = ' '.join([words.lemma_ for words in doc]) # Stemming & Lemmatization\n",
        "  text = re.sub(r'\\s[\\s]+', ' ', text).strip() # Removing repeated/leading/trailing spaces\n",
        "  return text\n",
        "\n",
        "# Apply the clean_text function to the 'Description' column in the training data and test data\n",
        "df_train['cleaned_text'] = df_train['description'].apply(clean_text)\n",
        "df_test['cleaned_text'] = df_test['description'].apply(clean_text)\n",
        "\n",
        "print(df_train.head(), '\\n')\n",
        "print(df_test.head())"
      ]
    },
    {
      "cell_type": "code",
      "execution_count": 23,
      "metadata": {
        "colab": {
          "base_uri": "https://localhost:8080/",
          "height": 206
        },
        "id": "zFH3pJGgln2v",
        "outputId": "5121ca07-361c-4031-d096-64e6520c719a"
      },
      "outputs": [
        {
          "output_type": "execute_result",
          "data": {
            "text/plain": [
              "                                title       genre  \\\n",
              "0       Oscar et la dame rose (2009)       drama    \n",
              "1                       Cupid (1997)    thriller    \n",
              "2   Young, Wild and Wonderful (1980)       adult    \n",
              "3              The Secret Sin (1915)       drama    \n",
              "4             The Unrecovered (2007)       drama    \n",
              "\n",
              "                                         description  \\\n",
              "0   Listening in to a conversation between his do...   \n",
              "1   A brother and sister with a past incestuous r...   \n",
              "2   As the bus empties the students for their fie...   \n",
              "3   To help their unemployed father make ends mee...   \n",
              "4   The film's title refers not only to the un-re...   \n",
              "\n",
              "                                        cleaned_text  \n",
              "0  listen conversation doctor parent year old osc...  \n",
              "1  brother sister past incestuous relationship cu...  \n",
              "2  bus empty student field trip museum natural hi...  \n",
              "3  help unemployed father make end meet edith twi...  \n",
              "4  film title refer un recover body grind zero al...  "
            ],
            "text/html": [
              "\n",
              "  <div id=\"df-708a07fe-ebf7-425b-b3a3-01576a33a566\" class=\"colab-df-container\">\n",
              "    <div>\n",
              "<style scoped>\n",
              "    .dataframe tbody tr th:only-of-type {\n",
              "        vertical-align: middle;\n",
              "    }\n",
              "\n",
              "    .dataframe tbody tr th {\n",
              "        vertical-align: top;\n",
              "    }\n",
              "\n",
              "    .dataframe thead th {\n",
              "        text-align: right;\n",
              "    }\n",
              "</style>\n",
              "<table border=\"1\" class=\"dataframe\">\n",
              "  <thead>\n",
              "    <tr style=\"text-align: right;\">\n",
              "      <th></th>\n",
              "      <th>title</th>\n",
              "      <th>genre</th>\n",
              "      <th>description</th>\n",
              "      <th>cleaned_text</th>\n",
              "    </tr>\n",
              "  </thead>\n",
              "  <tbody>\n",
              "    <tr>\n",
              "      <th>0</th>\n",
              "      <td>Oscar et la dame rose (2009)</td>\n",
              "      <td>drama</td>\n",
              "      <td>Listening in to a conversation between his do...</td>\n",
              "      <td>listen conversation doctor parent year old osc...</td>\n",
              "    </tr>\n",
              "    <tr>\n",
              "      <th>1</th>\n",
              "      <td>Cupid (1997)</td>\n",
              "      <td>thriller</td>\n",
              "      <td>A brother and sister with a past incestuous r...</td>\n",
              "      <td>brother sister past incestuous relationship cu...</td>\n",
              "    </tr>\n",
              "    <tr>\n",
              "      <th>2</th>\n",
              "      <td>Young, Wild and Wonderful (1980)</td>\n",
              "      <td>adult</td>\n",
              "      <td>As the bus empties the students for their fie...</td>\n",
              "      <td>bus empty student field trip museum natural hi...</td>\n",
              "    </tr>\n",
              "    <tr>\n",
              "      <th>3</th>\n",
              "      <td>The Secret Sin (1915)</td>\n",
              "      <td>drama</td>\n",
              "      <td>To help their unemployed father make ends mee...</td>\n",
              "      <td>help unemployed father make end meet edith twi...</td>\n",
              "    </tr>\n",
              "    <tr>\n",
              "      <th>4</th>\n",
              "      <td>The Unrecovered (2007)</td>\n",
              "      <td>drama</td>\n",
              "      <td>The film's title refers not only to the un-re...</td>\n",
              "      <td>film title refer un recover body grind zero al...</td>\n",
              "    </tr>\n",
              "  </tbody>\n",
              "</table>\n",
              "</div>\n",
              "    <div class=\"colab-df-buttons\">\n",
              "\n",
              "  <div class=\"colab-df-container\">\n",
              "    <button class=\"colab-df-convert\" onclick=\"convertToInteractive('df-708a07fe-ebf7-425b-b3a3-01576a33a566')\"\n",
              "            title=\"Convert this dataframe to an interactive table.\"\n",
              "            style=\"display:none;\">\n",
              "\n",
              "  <svg xmlns=\"http://www.w3.org/2000/svg\" height=\"24px\" viewBox=\"0 -960 960 960\">\n",
              "    <path d=\"M120-120v-720h720v720H120Zm60-500h600v-160H180v160Zm220 220h160v-160H400v160Zm0 220h160v-160H400v160ZM180-400h160v-160H180v160Zm440 0h160v-160H620v160ZM180-180h160v-160H180v160Zm440 0h160v-160H620v160Z\"/>\n",
              "  </svg>\n",
              "    </button>\n",
              "\n",
              "  <style>\n",
              "    .colab-df-container {\n",
              "      display:flex;\n",
              "      gap: 12px;\n",
              "    }\n",
              "\n",
              "    .colab-df-convert {\n",
              "      background-color: #E8F0FE;\n",
              "      border: none;\n",
              "      border-radius: 50%;\n",
              "      cursor: pointer;\n",
              "      display: none;\n",
              "      fill: #1967D2;\n",
              "      height: 32px;\n",
              "      padding: 0 0 0 0;\n",
              "      width: 32px;\n",
              "    }\n",
              "\n",
              "    .colab-df-convert:hover {\n",
              "      background-color: #E2EBFA;\n",
              "      box-shadow: 0px 1px 2px rgba(60, 64, 67, 0.3), 0px 1px 3px 1px rgba(60, 64, 67, 0.15);\n",
              "      fill: #174EA6;\n",
              "    }\n",
              "\n",
              "    .colab-df-buttons div {\n",
              "      margin-bottom: 4px;\n",
              "    }\n",
              "\n",
              "    [theme=dark] .colab-df-convert {\n",
              "      background-color: #3B4455;\n",
              "      fill: #D2E3FC;\n",
              "    }\n",
              "\n",
              "    [theme=dark] .colab-df-convert:hover {\n",
              "      background-color: #434B5C;\n",
              "      box-shadow: 0px 1px 3px 1px rgba(0, 0, 0, 0.15);\n",
              "      filter: drop-shadow(0px 1px 2px rgba(0, 0, 0, 0.3));\n",
              "      fill: #FFFFFF;\n",
              "    }\n",
              "  </style>\n",
              "\n",
              "    <script>\n",
              "      const buttonEl =\n",
              "        document.querySelector('#df-708a07fe-ebf7-425b-b3a3-01576a33a566 button.colab-df-convert');\n",
              "      buttonEl.style.display =\n",
              "        google.colab.kernel.accessAllowed ? 'block' : 'none';\n",
              "\n",
              "      async function convertToInteractive(key) {\n",
              "        const element = document.querySelector('#df-708a07fe-ebf7-425b-b3a3-01576a33a566');\n",
              "        const dataTable =\n",
              "          await google.colab.kernel.invokeFunction('convertToInteractive',\n",
              "                                                    [key], {});\n",
              "        if (!dataTable) return;\n",
              "\n",
              "        const docLinkHtml = 'Like what you see? Visit the ' +\n",
              "          '<a target=\"_blank\" href=https://colab.research.google.com/notebooks/data_table.ipynb>data table notebook</a>'\n",
              "          + ' to learn more about interactive tables.';\n",
              "        element.innerHTML = '';\n",
              "        dataTable['output_type'] = 'display_data';\n",
              "        await google.colab.output.renderOutput(dataTable, element);\n",
              "        const docLink = document.createElement('div');\n",
              "        docLink.innerHTML = docLinkHtml;\n",
              "        element.appendChild(docLink);\n",
              "      }\n",
              "    </script>\n",
              "  </div>\n",
              "\n",
              "\n",
              "<div id=\"df-20c9cebf-adab-4b43-8025-606e8806a396\">\n",
              "  <button class=\"colab-df-quickchart\" onclick=\"quickchart('df-20c9cebf-adab-4b43-8025-606e8806a396')\"\n",
              "            title=\"Suggest charts\"\n",
              "            style=\"display:none;\">\n",
              "\n",
              "<svg xmlns=\"http://www.w3.org/2000/svg\" height=\"24px\"viewBox=\"0 0 24 24\"\n",
              "     width=\"24px\">\n",
              "    <g>\n",
              "        <path d=\"M19 3H5c-1.1 0-2 .9-2 2v14c0 1.1.9 2 2 2h14c1.1 0 2-.9 2-2V5c0-1.1-.9-2-2-2zM9 17H7v-7h2v7zm4 0h-2V7h2v10zm4 0h-2v-4h2v4z\"/>\n",
              "    </g>\n",
              "</svg>\n",
              "  </button>\n",
              "\n",
              "<style>\n",
              "  .colab-df-quickchart {\n",
              "      --bg-color: #E8F0FE;\n",
              "      --fill-color: #1967D2;\n",
              "      --hover-bg-color: #E2EBFA;\n",
              "      --hover-fill-color: #174EA6;\n",
              "      --disabled-fill-color: #AAA;\n",
              "      --disabled-bg-color: #DDD;\n",
              "  }\n",
              "\n",
              "  [theme=dark] .colab-df-quickchart {\n",
              "      --bg-color: #3B4455;\n",
              "      --fill-color: #D2E3FC;\n",
              "      --hover-bg-color: #434B5C;\n",
              "      --hover-fill-color: #FFFFFF;\n",
              "      --disabled-bg-color: #3B4455;\n",
              "      --disabled-fill-color: #666;\n",
              "  }\n",
              "\n",
              "  .colab-df-quickchart {\n",
              "    background-color: var(--bg-color);\n",
              "    border: none;\n",
              "    border-radius: 50%;\n",
              "    cursor: pointer;\n",
              "    display: none;\n",
              "    fill: var(--fill-color);\n",
              "    height: 32px;\n",
              "    padding: 0;\n",
              "    width: 32px;\n",
              "  }\n",
              "\n",
              "  .colab-df-quickchart:hover {\n",
              "    background-color: var(--hover-bg-color);\n",
              "    box-shadow: 0 1px 2px rgba(60, 64, 67, 0.3), 0 1px 3px 1px rgba(60, 64, 67, 0.15);\n",
              "    fill: var(--button-hover-fill-color);\n",
              "  }\n",
              "\n",
              "  .colab-df-quickchart-complete:disabled,\n",
              "  .colab-df-quickchart-complete:disabled:hover {\n",
              "    background-color: var(--disabled-bg-color);\n",
              "    fill: var(--disabled-fill-color);\n",
              "    box-shadow: none;\n",
              "  }\n",
              "\n",
              "  .colab-df-spinner {\n",
              "    border: 2px solid var(--fill-color);\n",
              "    border-color: transparent;\n",
              "    border-bottom-color: var(--fill-color);\n",
              "    animation:\n",
              "      spin 1s steps(1) infinite;\n",
              "  }\n",
              "\n",
              "  @keyframes spin {\n",
              "    0% {\n",
              "      border-color: transparent;\n",
              "      border-bottom-color: var(--fill-color);\n",
              "      border-left-color: var(--fill-color);\n",
              "    }\n",
              "    20% {\n",
              "      border-color: transparent;\n",
              "      border-left-color: var(--fill-color);\n",
              "      border-top-color: var(--fill-color);\n",
              "    }\n",
              "    30% {\n",
              "      border-color: transparent;\n",
              "      border-left-color: var(--fill-color);\n",
              "      border-top-color: var(--fill-color);\n",
              "      border-right-color: var(--fill-color);\n",
              "    }\n",
              "    40% {\n",
              "      border-color: transparent;\n",
              "      border-right-color: var(--fill-color);\n",
              "      border-top-color: var(--fill-color);\n",
              "    }\n",
              "    60% {\n",
              "      border-color: transparent;\n",
              "      border-right-color: var(--fill-color);\n",
              "    }\n",
              "    80% {\n",
              "      border-color: transparent;\n",
              "      border-right-color: var(--fill-color);\n",
              "      border-bottom-color: var(--fill-color);\n",
              "    }\n",
              "    90% {\n",
              "      border-color: transparent;\n",
              "      border-bottom-color: var(--fill-color);\n",
              "    }\n",
              "  }\n",
              "</style>\n",
              "\n",
              "  <script>\n",
              "    async function quickchart(key) {\n",
              "      const quickchartButtonEl =\n",
              "        document.querySelector('#' + key + ' button');\n",
              "      quickchartButtonEl.disabled = true;  // To prevent multiple clicks.\n",
              "      quickchartButtonEl.classList.add('colab-df-spinner');\n",
              "      try {\n",
              "        const charts = await google.colab.kernel.invokeFunction(\n",
              "            'suggestCharts', [key], {});\n",
              "      } catch (error) {\n",
              "        console.error('Error during call to suggestCharts:', error);\n",
              "      }\n",
              "      quickchartButtonEl.classList.remove('colab-df-spinner');\n",
              "      quickchartButtonEl.classList.add('colab-df-quickchart-complete');\n",
              "    }\n",
              "    (() => {\n",
              "      let quickchartButtonEl =\n",
              "        document.querySelector('#df-20c9cebf-adab-4b43-8025-606e8806a396 button');\n",
              "      quickchartButtonEl.style.display =\n",
              "        google.colab.kernel.accessAllowed ? 'block' : 'none';\n",
              "    })();\n",
              "  </script>\n",
              "</div>\n",
              "\n",
              "    </div>\n",
              "  </div>\n"
            ],
            "application/vnd.google.colaboratory.intrinsic+json": {
              "type": "dataframe",
              "variable_name": "df_train",
              "summary": "{\n  \"name\": \"df_train\",\n  \"rows\": 5000,\n  \"fields\": [\n    {\n      \"column\": \"title\",\n      \"properties\": {\n        \"dtype\": \"string\",\n        \"num_unique_values\": 5000,\n        \"samples\": [\n          \" \\\"The Tube's Hautest\\\" (2014) \",\n          \" Kofi (2018) \",\n          \" Sold Out (2011) \"\n        ],\n        \"semantic_type\": \"\",\n        \"description\": \"\"\n      }\n    },\n    {\n      \"column\": \"genre\",\n      \"properties\": {\n        \"dtype\": \"category\",\n        \"num_unique_values\": 27,\n        \"samples\": [\n          \" sport \",\n          \" sci-fi \",\n          \" animation \"\n        ],\n        \"semantic_type\": \"\",\n        \"description\": \"\"\n      }\n    },\n    {\n      \"column\": \"description\",\n      \"properties\": {\n        \"dtype\": \"string\",\n        \"num_unique_values\": 4998,\n        \"samples\": [\n          \" Fashion designer Gene and his buxom wife Debbie are a loving couple. Alas, Gene's secretary Elley goes for his privates in a locker room, and Debbie runs away after seeing them. After she faces Gene, Debbie gets together with her old acquaintance Tony. Meanwhile, a party goer hippie woman knocks by mistake on the couple's door, but decides to seduce their new hired Mexican chef Ric. Debbie's sister Cindy comes to visit and reminds Debbie how close they were. As important client Mssr. DuBois arrives for dinner, Cindy drugs the food. Already high herself, Cindy seduces chef Ric in the kitchen. With everybody else also high, Cindy goes for DuBois' privates. The only one who avoided the food was Debbie, who uses the chaos to run off with Tony who sneaked in earlier.\",\n          \" Meredith was promised nine years of safety, but they only gave her three. Her father, who was sent to prison for sexually abusing Meredith and other children in their small town, has been released on good behavior. He was supposed to be locked up until Meredith's eighteenth birthday, when she could legally be free of both her abusive father and her delusional mother who dwells on a fantasy that the three of them will be a happy family once more. But Meredith is only fifteen, and her father is out of prison... And her mother is bringing him home. And Meredith won't let him hurt her, or anyone else, ever again. No matter what the cost.\",\n          \" This is not a story about war. Returning home to 1960's Australia, the place he once called home, followed by memories an ocean away. The most unlikely companion, the only way to express the moments lived, ones regretted and lessons not yet learned. The journey not of a man, a family or a hero but of a life that lives through generations sharing stories when we lack the courage to tell them.\"\n        ],\n        \"semantic_type\": \"\",\n        \"description\": \"\"\n      }\n    },\n    {\n      \"column\": \"cleaned_text\",\n      \"properties\": {\n        \"dtype\": \"string\",\n        \"num_unique_values\": 4997,\n        \"samples\": [\n          \"fashion designer gene buxom wife debbie love couple ala gene secretary elley go private locker room debbie run away see face gene debbie get together old acquaintance tony meanwhile party goer hippie woman knock mistake couple door decide seduce new hire mexican chef ric debbies sister cindy come visit remind debbie close important client mssr dubois arrive dinner cindy drug food already high cindy seduce chef ric kitchen everybody else also high cindy go dubois private one avoid food debbie use chaos run tony sneak early\",\n          \"eve th anniversary little rock school desegregation crisis educational inequality remain among urgent civil right issue time school district hanging balance follow state takeover january little rock today present microcosm inequity challenge manifest classroom across america case study little rock new york city los angeles teach we seek bring critical lesson history bear current state education investigate year later far come come catalyze action\",\n          \"samantha former martial art champion one last survivor global epidemic transform mankind living zombie eater food scarce water high demand gun must follow deaths lover alex friend laura sam ventures forth one watch back encounter wander loner jack join forces time sam jack battle eater day new struggle survival exhaust supply dwindle sam jack run group survivor lead mercenary like murtow unhinge sister jane murtow take conceal hideous agenda sam jack unveil truth take flight relentless chase ensue catch eater murtow group may escape seem\"\n        ],\n        \"semantic_type\": \"\",\n        \"description\": \"\"\n      }\n    }\n  ]\n}"
            }
          },
          "metadata": {},
          "execution_count": 23
        }
      ],
      "source": [
        "df_train.head()"
      ]
    },
    {
      "cell_type": "markdown",
      "metadata": {
        "id": "CPAXKSHGbkDH"
      },
      "source": [
        "Feature Engineering"
      ]
    },
    {
      "cell_type": "code",
      "execution_count": 24,
      "metadata": {
        "id": "wXkVxeL6bqO7"
      },
      "outputs": [],
      "source": [
        "# Vectorization\n",
        "vectorizer = TfidfVectorizer()\n",
        "df_train_vectorized = vectorizer.fit_transform(df_train['cleaned_text']).toarray()\n",
        "df_test_vectorized = vectorizer.fit_transform(df_test['cleaned_text']).toarray()"
      ]
    },
    {
      "cell_type": "code",
      "execution_count": 25,
      "metadata": {
        "colab": {
          "base_uri": "https://localhost:8080/"
        },
        "id": "ITgFcA-Hgjtt",
        "outputId": "0aff43d8-0fdc-417c-b1e8-b2c184ab65a0"
      },
      "outputs": [
        {
          "output_type": "execute_result",
          "data": {
            "text/plain": [
              "array([[0., 0., 0., ..., 0., 0., 0.],\n",
              "       [0., 0., 0., ..., 0., 0., 0.],\n",
              "       [0., 0., 0., ..., 0., 0., 0.],\n",
              "       ...,\n",
              "       [0., 0., 0., ..., 0., 0., 0.],\n",
              "       [0., 0., 0., ..., 0., 0., 0.],\n",
              "       [0., 0., 0., ..., 0., 0., 0.]])"
            ]
          },
          "metadata": {},
          "execution_count": 25
        }
      ],
      "source": [
        "df_train_vectorized"
      ]
    },
    {
      "cell_type": "code",
      "execution_count": 26,
      "metadata": {
        "colab": {
          "base_uri": "https://localhost:8080/"
        },
        "id": "dBfjTclLgv7O",
        "outputId": "d667bf2e-c84a-42aa-953a-53f44cf70a9a"
      },
      "outputs": [
        {
          "output_type": "execute_result",
          "data": {
            "text/plain": [
              "(5000, 28934)"
            ]
          },
          "metadata": {},
          "execution_count": 26
        }
      ],
      "source": [
        "df_train_vectorized.shape"
      ]
    },
    {
      "cell_type": "code",
      "execution_count": 27,
      "metadata": {
        "colab": {
          "base_uri": "https://localhost:8080/"
        },
        "id": "wzY6RuaygoZc",
        "outputId": "c028b4a2-25d4-44a6-fa38-e37d156f6cc0"
      },
      "outputs": [
        {
          "output_type": "execute_result",
          "data": {
            "text/plain": [
              "array([[0., 0., 0., ..., 0., 0., 0.],\n",
              "       [0., 0., 0., ..., 0., 0., 0.],\n",
              "       [0., 0., 0., ..., 0., 0., 0.],\n",
              "       ...,\n",
              "       [0., 0., 0., ..., 0., 0., 0.],\n",
              "       [0., 0., 0., ..., 0., 0., 0.],\n",
              "       [0., 0., 0., ..., 0., 0., 0.]])"
            ]
          },
          "metadata": {},
          "execution_count": 27
        }
      ],
      "source": [
        "df_test_vectorized"
      ]
    },
    {
      "cell_type": "code",
      "execution_count": 28,
      "metadata": {
        "colab": {
          "base_uri": "https://localhost:8080/"
        },
        "id": "uImhLCMyg1hA",
        "outputId": "d51b0a6a-72b1-4b91-a7d9-9e802ed10e3c"
      },
      "outputs": [
        {
          "output_type": "execute_result",
          "data": {
            "text/plain": [
              "(5000, 29292)"
            ]
          },
          "metadata": {},
          "execution_count": 28
        }
      ],
      "source": [
        "df_test_vectorized.shape"
      ]
    },
    {
      "cell_type": "code",
      "execution_count": 29,
      "metadata": {
        "colab": {
          "base_uri": "https://localhost:8080/",
          "height": 295
        },
        "id": "9_SHlnNAgTjY",
        "outputId": "4a711da5-4d8f-4df6-87f8-a4ebf0ab7e5a"
      },
      "outputs": [
        {
          "output_type": "stream",
          "name": "stdout",
          "text": [
            "{0: ' action ', 1: ' adult ', 2: ' adventure ', 3: ' animation ', 4: ' biography ', 5: ' comedy ', 6: ' crime ', 7: ' documentary ', 8: ' drama ', 9: ' family ', 10: ' fantasy ', 11: ' game-show ', 12: ' history ', 13: ' horror ', 14: ' music ', 15: ' musical ', 16: ' mystery ', 17: ' news ', 18: ' reality-tv ', 19: ' romance ', 20: ' sci-fi ', 21: ' short ', 22: ' sport ', 23: ' talk-show ', 24: ' thriller ', 25: ' war ', 26: ' western '} \n",
            "\n",
            "Labels count :  27 \n",
            "\n"
          ]
        },
        {
          "output_type": "execute_result",
          "data": {
            "text/plain": [
              "                                title  genre  \\\n",
              "0       Oscar et la dame rose (2009)       8   \n",
              "1                       Cupid (1997)      24   \n",
              "2   Young, Wild and Wonderful (1980)       1   \n",
              "3              The Secret Sin (1915)       8   \n",
              "4             The Unrecovered (2007)       8   \n",
              "\n",
              "                                         description  \\\n",
              "0   Listening in to a conversation between his do...   \n",
              "1   A brother and sister with a past incestuous r...   \n",
              "2   As the bus empties the students for their fie...   \n",
              "3   To help their unemployed father make ends mee...   \n",
              "4   The film's title refers not only to the un-re...   \n",
              "\n",
              "                                        cleaned_text  \n",
              "0  listen conversation doctor parent year old osc...  \n",
              "1  brother sister past incestuous relationship cu...  \n",
              "2  bus empty student field trip museum natural hi...  \n",
              "3  help unemployed father make end meet edith twi...  \n",
              "4  film title refer un recover body grind zero al...  "
            ],
            "text/html": [
              "\n",
              "  <div id=\"df-b285c70b-0825-48be-881b-f801630b2de5\" class=\"colab-df-container\">\n",
              "    <div>\n",
              "<style scoped>\n",
              "    .dataframe tbody tr th:only-of-type {\n",
              "        vertical-align: middle;\n",
              "    }\n",
              "\n",
              "    .dataframe tbody tr th {\n",
              "        vertical-align: top;\n",
              "    }\n",
              "\n",
              "    .dataframe thead th {\n",
              "        text-align: right;\n",
              "    }\n",
              "</style>\n",
              "<table border=\"1\" class=\"dataframe\">\n",
              "  <thead>\n",
              "    <tr style=\"text-align: right;\">\n",
              "      <th></th>\n",
              "      <th>title</th>\n",
              "      <th>genre</th>\n",
              "      <th>description</th>\n",
              "      <th>cleaned_text</th>\n",
              "    </tr>\n",
              "  </thead>\n",
              "  <tbody>\n",
              "    <tr>\n",
              "      <th>0</th>\n",
              "      <td>Oscar et la dame rose (2009)</td>\n",
              "      <td>8</td>\n",
              "      <td>Listening in to a conversation between his do...</td>\n",
              "      <td>listen conversation doctor parent year old osc...</td>\n",
              "    </tr>\n",
              "    <tr>\n",
              "      <th>1</th>\n",
              "      <td>Cupid (1997)</td>\n",
              "      <td>24</td>\n",
              "      <td>A brother and sister with a past incestuous r...</td>\n",
              "      <td>brother sister past incestuous relationship cu...</td>\n",
              "    </tr>\n",
              "    <tr>\n",
              "      <th>2</th>\n",
              "      <td>Young, Wild and Wonderful (1980)</td>\n",
              "      <td>1</td>\n",
              "      <td>As the bus empties the students for their fie...</td>\n",
              "      <td>bus empty student field trip museum natural hi...</td>\n",
              "    </tr>\n",
              "    <tr>\n",
              "      <th>3</th>\n",
              "      <td>The Secret Sin (1915)</td>\n",
              "      <td>8</td>\n",
              "      <td>To help their unemployed father make ends mee...</td>\n",
              "      <td>help unemployed father make end meet edith twi...</td>\n",
              "    </tr>\n",
              "    <tr>\n",
              "      <th>4</th>\n",
              "      <td>The Unrecovered (2007)</td>\n",
              "      <td>8</td>\n",
              "      <td>The film's title refers not only to the un-re...</td>\n",
              "      <td>film title refer un recover body grind zero al...</td>\n",
              "    </tr>\n",
              "  </tbody>\n",
              "</table>\n",
              "</div>\n",
              "    <div class=\"colab-df-buttons\">\n",
              "\n",
              "  <div class=\"colab-df-container\">\n",
              "    <button class=\"colab-df-convert\" onclick=\"convertToInteractive('df-b285c70b-0825-48be-881b-f801630b2de5')\"\n",
              "            title=\"Convert this dataframe to an interactive table.\"\n",
              "            style=\"display:none;\">\n",
              "\n",
              "  <svg xmlns=\"http://www.w3.org/2000/svg\" height=\"24px\" viewBox=\"0 -960 960 960\">\n",
              "    <path d=\"M120-120v-720h720v720H120Zm60-500h600v-160H180v160Zm220 220h160v-160H400v160Zm0 220h160v-160H400v160ZM180-400h160v-160H180v160Zm440 0h160v-160H620v160ZM180-180h160v-160H180v160Zm440 0h160v-160H620v160Z\"/>\n",
              "  </svg>\n",
              "    </button>\n",
              "\n",
              "  <style>\n",
              "    .colab-df-container {\n",
              "      display:flex;\n",
              "      gap: 12px;\n",
              "    }\n",
              "\n",
              "    .colab-df-convert {\n",
              "      background-color: #E8F0FE;\n",
              "      border: none;\n",
              "      border-radius: 50%;\n",
              "      cursor: pointer;\n",
              "      display: none;\n",
              "      fill: #1967D2;\n",
              "      height: 32px;\n",
              "      padding: 0 0 0 0;\n",
              "      width: 32px;\n",
              "    }\n",
              "\n",
              "    .colab-df-convert:hover {\n",
              "      background-color: #E2EBFA;\n",
              "      box-shadow: 0px 1px 2px rgba(60, 64, 67, 0.3), 0px 1px 3px 1px rgba(60, 64, 67, 0.15);\n",
              "      fill: #174EA6;\n",
              "    }\n",
              "\n",
              "    .colab-df-buttons div {\n",
              "      margin-bottom: 4px;\n",
              "    }\n",
              "\n",
              "    [theme=dark] .colab-df-convert {\n",
              "      background-color: #3B4455;\n",
              "      fill: #D2E3FC;\n",
              "    }\n",
              "\n",
              "    [theme=dark] .colab-df-convert:hover {\n",
              "      background-color: #434B5C;\n",
              "      box-shadow: 0px 1px 3px 1px rgba(0, 0, 0, 0.15);\n",
              "      filter: drop-shadow(0px 1px 2px rgba(0, 0, 0, 0.3));\n",
              "      fill: #FFFFFF;\n",
              "    }\n",
              "  </style>\n",
              "\n",
              "    <script>\n",
              "      const buttonEl =\n",
              "        document.querySelector('#df-b285c70b-0825-48be-881b-f801630b2de5 button.colab-df-convert');\n",
              "      buttonEl.style.display =\n",
              "        google.colab.kernel.accessAllowed ? 'block' : 'none';\n",
              "\n",
              "      async function convertToInteractive(key) {\n",
              "        const element = document.querySelector('#df-b285c70b-0825-48be-881b-f801630b2de5');\n",
              "        const dataTable =\n",
              "          await google.colab.kernel.invokeFunction('convertToInteractive',\n",
              "                                                    [key], {});\n",
              "        if (!dataTable) return;\n",
              "\n",
              "        const docLinkHtml = 'Like what you see? Visit the ' +\n",
              "          '<a target=\"_blank\" href=https://colab.research.google.com/notebooks/data_table.ipynb>data table notebook</a>'\n",
              "          + ' to learn more about interactive tables.';\n",
              "        element.innerHTML = '';\n",
              "        dataTable['output_type'] = 'display_data';\n",
              "        await google.colab.output.renderOutput(dataTable, element);\n",
              "        const docLink = document.createElement('div');\n",
              "        docLink.innerHTML = docLinkHtml;\n",
              "        element.appendChild(docLink);\n",
              "      }\n",
              "    </script>\n",
              "  </div>\n",
              "\n",
              "\n",
              "<div id=\"df-f921c30f-970a-4beb-bbe0-2a336291fc01\">\n",
              "  <button class=\"colab-df-quickchart\" onclick=\"quickchart('df-f921c30f-970a-4beb-bbe0-2a336291fc01')\"\n",
              "            title=\"Suggest charts\"\n",
              "            style=\"display:none;\">\n",
              "\n",
              "<svg xmlns=\"http://www.w3.org/2000/svg\" height=\"24px\"viewBox=\"0 0 24 24\"\n",
              "     width=\"24px\">\n",
              "    <g>\n",
              "        <path d=\"M19 3H5c-1.1 0-2 .9-2 2v14c0 1.1.9 2 2 2h14c1.1 0 2-.9 2-2V5c0-1.1-.9-2-2-2zM9 17H7v-7h2v7zm4 0h-2V7h2v10zm4 0h-2v-4h2v4z\"/>\n",
              "    </g>\n",
              "</svg>\n",
              "  </button>\n",
              "\n",
              "<style>\n",
              "  .colab-df-quickchart {\n",
              "      --bg-color: #E8F0FE;\n",
              "      --fill-color: #1967D2;\n",
              "      --hover-bg-color: #E2EBFA;\n",
              "      --hover-fill-color: #174EA6;\n",
              "      --disabled-fill-color: #AAA;\n",
              "      --disabled-bg-color: #DDD;\n",
              "  }\n",
              "\n",
              "  [theme=dark] .colab-df-quickchart {\n",
              "      --bg-color: #3B4455;\n",
              "      --fill-color: #D2E3FC;\n",
              "      --hover-bg-color: #434B5C;\n",
              "      --hover-fill-color: #FFFFFF;\n",
              "      --disabled-bg-color: #3B4455;\n",
              "      --disabled-fill-color: #666;\n",
              "  }\n",
              "\n",
              "  .colab-df-quickchart {\n",
              "    background-color: var(--bg-color);\n",
              "    border: none;\n",
              "    border-radius: 50%;\n",
              "    cursor: pointer;\n",
              "    display: none;\n",
              "    fill: var(--fill-color);\n",
              "    height: 32px;\n",
              "    padding: 0;\n",
              "    width: 32px;\n",
              "  }\n",
              "\n",
              "  .colab-df-quickchart:hover {\n",
              "    background-color: var(--hover-bg-color);\n",
              "    box-shadow: 0 1px 2px rgba(60, 64, 67, 0.3), 0 1px 3px 1px rgba(60, 64, 67, 0.15);\n",
              "    fill: var(--button-hover-fill-color);\n",
              "  }\n",
              "\n",
              "  .colab-df-quickchart-complete:disabled,\n",
              "  .colab-df-quickchart-complete:disabled:hover {\n",
              "    background-color: var(--disabled-bg-color);\n",
              "    fill: var(--disabled-fill-color);\n",
              "    box-shadow: none;\n",
              "  }\n",
              "\n",
              "  .colab-df-spinner {\n",
              "    border: 2px solid var(--fill-color);\n",
              "    border-color: transparent;\n",
              "    border-bottom-color: var(--fill-color);\n",
              "    animation:\n",
              "      spin 1s steps(1) infinite;\n",
              "  }\n",
              "\n",
              "  @keyframes spin {\n",
              "    0% {\n",
              "      border-color: transparent;\n",
              "      border-bottom-color: var(--fill-color);\n",
              "      border-left-color: var(--fill-color);\n",
              "    }\n",
              "    20% {\n",
              "      border-color: transparent;\n",
              "      border-left-color: var(--fill-color);\n",
              "      border-top-color: var(--fill-color);\n",
              "    }\n",
              "    30% {\n",
              "      border-color: transparent;\n",
              "      border-left-color: var(--fill-color);\n",
              "      border-top-color: var(--fill-color);\n",
              "      border-right-color: var(--fill-color);\n",
              "    }\n",
              "    40% {\n",
              "      border-color: transparent;\n",
              "      border-right-color: var(--fill-color);\n",
              "      border-top-color: var(--fill-color);\n",
              "    }\n",
              "    60% {\n",
              "      border-color: transparent;\n",
              "      border-right-color: var(--fill-color);\n",
              "    }\n",
              "    80% {\n",
              "      border-color: transparent;\n",
              "      border-right-color: var(--fill-color);\n",
              "      border-bottom-color: var(--fill-color);\n",
              "    }\n",
              "    90% {\n",
              "      border-color: transparent;\n",
              "      border-bottom-color: var(--fill-color);\n",
              "    }\n",
              "  }\n",
              "</style>\n",
              "\n",
              "  <script>\n",
              "    async function quickchart(key) {\n",
              "      const quickchartButtonEl =\n",
              "        document.querySelector('#' + key + ' button');\n",
              "      quickchartButtonEl.disabled = true;  // To prevent multiple clicks.\n",
              "      quickchartButtonEl.classList.add('colab-df-spinner');\n",
              "      try {\n",
              "        const charts = await google.colab.kernel.invokeFunction(\n",
              "            'suggestCharts', [key], {});\n",
              "      } catch (error) {\n",
              "        console.error('Error during call to suggestCharts:', error);\n",
              "      }\n",
              "      quickchartButtonEl.classList.remove('colab-df-spinner');\n",
              "      quickchartButtonEl.classList.add('colab-df-quickchart-complete');\n",
              "    }\n",
              "    (() => {\n",
              "      let quickchartButtonEl =\n",
              "        document.querySelector('#df-f921c30f-970a-4beb-bbe0-2a336291fc01 button');\n",
              "      quickchartButtonEl.style.display =\n",
              "        google.colab.kernel.accessAllowed ? 'block' : 'none';\n",
              "    })();\n",
              "  </script>\n",
              "</div>\n",
              "\n",
              "    </div>\n",
              "  </div>\n"
            ],
            "application/vnd.google.colaboratory.intrinsic+json": {
              "type": "dataframe",
              "variable_name": "df_train",
              "summary": "{\n  \"name\": \"df_train\",\n  \"rows\": 5000,\n  \"fields\": [\n    {\n      \"column\": \"title\",\n      \"properties\": {\n        \"dtype\": \"string\",\n        \"num_unique_values\": 5000,\n        \"samples\": [\n          \" \\\"The Tube's Hautest\\\" (2014) \",\n          \" Kofi (2018) \",\n          \" Sold Out (2011) \"\n        ],\n        \"semantic_type\": \"\",\n        \"description\": \"\"\n      }\n    },\n    {\n      \"column\": \"genre\",\n      \"properties\": {\n        \"dtype\": \"number\",\n        \"std\": 6,\n        \"min\": 0,\n        \"max\": 26,\n        \"num_unique_values\": 27,\n        \"samples\": [\n          22,\n          20,\n          3\n        ],\n        \"semantic_type\": \"\",\n        \"description\": \"\"\n      }\n    },\n    {\n      \"column\": \"description\",\n      \"properties\": {\n        \"dtype\": \"string\",\n        \"num_unique_values\": 4998,\n        \"samples\": [\n          \" Fashion designer Gene and his buxom wife Debbie are a loving couple. Alas, Gene's secretary Elley goes for his privates in a locker room, and Debbie runs away after seeing them. After she faces Gene, Debbie gets together with her old acquaintance Tony. Meanwhile, a party goer hippie woman knocks by mistake on the couple's door, but decides to seduce their new hired Mexican chef Ric. Debbie's sister Cindy comes to visit and reminds Debbie how close they were. As important client Mssr. DuBois arrives for dinner, Cindy drugs the food. Already high herself, Cindy seduces chef Ric in the kitchen. With everybody else also high, Cindy goes for DuBois' privates. The only one who avoided the food was Debbie, who uses the chaos to run off with Tony who sneaked in earlier.\",\n          \" Meredith was promised nine years of safety, but they only gave her three. Her father, who was sent to prison for sexually abusing Meredith and other children in their small town, has been released on good behavior. He was supposed to be locked up until Meredith's eighteenth birthday, when she could legally be free of both her abusive father and her delusional mother who dwells on a fantasy that the three of them will be a happy family once more. But Meredith is only fifteen, and her father is out of prison... And her mother is bringing him home. And Meredith won't let him hurt her, or anyone else, ever again. No matter what the cost.\",\n          \" This is not a story about war. Returning home to 1960's Australia, the place he once called home, followed by memories an ocean away. The most unlikely companion, the only way to express the moments lived, ones regretted and lessons not yet learned. The journey not of a man, a family or a hero but of a life that lives through generations sharing stories when we lack the courage to tell them.\"\n        ],\n        \"semantic_type\": \"\",\n        \"description\": \"\"\n      }\n    },\n    {\n      \"column\": \"cleaned_text\",\n      \"properties\": {\n        \"dtype\": \"string\",\n        \"num_unique_values\": 4997,\n        \"samples\": [\n          \"fashion designer gene buxom wife debbie love couple ala gene secretary elley go private locker room debbie run away see face gene debbie get together old acquaintance tony meanwhile party goer hippie woman knock mistake couple door decide seduce new hire mexican chef ric debbies sister cindy come visit remind debbie close important client mssr dubois arrive dinner cindy drug food already high cindy seduce chef ric kitchen everybody else also high cindy go dubois private one avoid food debbie use chaos run tony sneak early\",\n          \"eve th anniversary little rock school desegregation crisis educational inequality remain among urgent civil right issue time school district hanging balance follow state takeover january little rock today present microcosm inequity challenge manifest classroom across america case study little rock new york city los angeles teach we seek bring critical lesson history bear current state education investigate year later far come come catalyze action\",\n          \"samantha former martial art champion one last survivor global epidemic transform mankind living zombie eater food scarce water high demand gun must follow deaths lover alex friend laura sam ventures forth one watch back encounter wander loner jack join forces time sam jack battle eater day new struggle survival exhaust supply dwindle sam jack run group survivor lead mercenary like murtow unhinge sister jane murtow take conceal hideous agenda sam jack unveil truth take flight relentless chase ensue catch eater murtow group may escape seem\"\n        ],\n        \"semantic_type\": \"\",\n        \"description\": \"\"\n      }\n    }\n  ]\n}"
            }
          },
          "metadata": {},
          "execution_count": 29
        }
      ],
      "source": [
        "# Encoding\n",
        "encoder = LabelEncoder()\n",
        "df_train['genre'] = encoder.fit_transform(df_train['genre'])\n",
        "dictgn = dict(enumerate(encoder.classes_))\n",
        "print(dictgn, '\\n')\n",
        "\n",
        "print(\"Labels count : \", 1 + df_train.genre.max(), '\\n')\n",
        "df_train.head()"
      ]
    },
    {
      "cell_type": "code",
      "execution_count": 30,
      "metadata": {
        "id": "3xLXgJ-BCClx"
      },
      "outputs": [],
      "source": [
        "# Select and define features(x) and target variable(y)\n",
        "x = df_train_vectorized\n",
        "y = df_train['genre']"
      ]
    },
    {
      "cell_type": "code",
      "execution_count": 31,
      "metadata": {
        "colab": {
          "base_uri": "https://localhost:8080/"
        },
        "id": "u-aiJ3ZTDanF",
        "outputId": "d692c24e-8861-441f-bae4-cf8685f9e7fb"
      },
      "outputs": [
        {
          "output_type": "execute_result",
          "data": {
            "text/plain": [
              "array([[0., 0., 0., ..., 0., 0., 0.],\n",
              "       [0., 0., 0., ..., 0., 0., 0.],\n",
              "       [0., 0., 0., ..., 0., 0., 0.],\n",
              "       [0., 0., 0., ..., 0., 0., 0.],\n",
              "       [0., 0., 0., ..., 0., 0., 0.]])"
            ]
          },
          "metadata": {},
          "execution_count": 31
        }
      ],
      "source": [
        "x[:5]"
      ]
    },
    {
      "cell_type": "code",
      "execution_count": 32,
      "metadata": {
        "colab": {
          "base_uri": "https://localhost:8080/"
        },
        "id": "1emTQeQcDr19",
        "outputId": "9390f07c-ff00-4e10-953c-437b75c9ad01"
      },
      "outputs": [
        {
          "output_type": "execute_result",
          "data": {
            "text/plain": [
              "0     8\n",
              "1    24\n",
              "2     1\n",
              "3     8\n",
              "4     8\n",
              "Name: genre, dtype: int64"
            ]
          },
          "metadata": {},
          "execution_count": 32
        }
      ],
      "source": [
        "y[:5]"
      ]
    },
    {
      "cell_type": "markdown",
      "metadata": {
        "id": "_leUwTs3GYI1"
      },
      "source": [
        "Data Spliting"
      ]
    },
    {
      "cell_type": "code",
      "execution_count": 33,
      "metadata": {
        "id": "CUGSxi_GDy1o"
      },
      "outputs": [],
      "source": [
        "# Splitting the dataset into training and testing parts\n",
        "x_train, x_test, y_train, y_test = train_test_split(x, y, test_size= 0.2, random_state= 42)"
      ]
    },
    {
      "cell_type": "code",
      "execution_count": 34,
      "metadata": {
        "colab": {
          "base_uri": "https://localhost:8080/"
        },
        "id": "pPANYwoOEYpA",
        "outputId": "4d523ce3-6201-468b-86e1-3e80223ede88"
      },
      "outputs": [
        {
          "output_type": "stream",
          "name": "stdout",
          "text": [
            "Training set shape of x:  (4000, 28934)\n",
            "Testing set shape of x:  (1000, 28934)\n",
            "Training set shape of y:  (4000,)\n",
            "Testing set shape of y:  (1000,)\n"
          ]
        }
      ],
      "source": [
        "# Display the shape of the training and testing sets\n",
        "print('Training set shape of x: ', x_train.shape)\n",
        "print('Testing set shape of x: ', x_test.shape)\n",
        "print('Training set shape of y: ', y_train.shape)\n",
        "print('Testing set shape of y: ', y_test.shape)"
      ]
    },
    {
      "cell_type": "markdown",
      "metadata": {
        "id": "qmqbAoQcI9ah"
      },
      "source": [
        "### Model Building"
      ]
    },
    {
      "cell_type": "code",
      "execution_count": 35,
      "metadata": {
        "id": "5ZebhG5JJUmN",
        "colab": {
          "base_uri": "https://localhost:8080/"
        },
        "outputId": "b8981b26-5e43-48d2-926d-d9efbd5243fb"
      },
      "outputs": [
        {
          "output_type": "stream",
          "name": "stdout",
          "text": [
            "0.66475\n",
            "0.4895\n",
            "1.0\n",
            "1.0\n",
            "1.0\n",
            "0.557\n",
            "0.86875\n"
          ]
        }
      ],
      "source": [
        "# Logistic Regression\n",
        "log_reg = LogisticRegression(random_state= 42)\n",
        "log_reg.fit(x_train, y_train)\n",
        "y_pred_log = log_reg.predict(x_test)\n",
        "print(log_reg.score(x_train, y_train))\n",
        "\n",
        "# Naive_Bayes\n",
        "nb_model = MultinomialNB()\n",
        "nb_model.fit(x_train, y_train)\n",
        "y_pred_nb = nb_model.predict(x_test)\n",
        "print(nb_model.score(x_train, y_train))\n",
        "\n",
        "# Neural Network\n",
        "nn_model = MLPClassifier()\n",
        "nn_model.fit(x_train, y_train)\n",
        "y_pred_nn = nn_model.predict(x_test)\n",
        "print(nn_model.score(x_train, y_train))\n",
        "\n",
        "# Decision Tree\n",
        "dt_model = DecisionTreeClassifier()\n",
        "dt_model.fit(x_train, y_train)\n",
        "y_pred_dt = dt_model.predict(x_test)\n",
        "print(dt_model.score(x_train, y_train))\n",
        "\n",
        "# Random Forest\n",
        "rf_model = RandomForestClassifier()\n",
        "rf_model.fit(x_train, y_train)\n",
        "y_pred_rf = rf_model.predict(x_test)\n",
        "print(rf_model.score(x_train, y_train))\n",
        "\n",
        "# K-Neighbors\n",
        "kn_model = KNeighborsClassifier()\n",
        "kn_model.fit(x_train, y_train)\n",
        "y_pred_kn = kn_model.predict(x_test)\n",
        "print(kn_model.score(x_train, y_train))\n",
        "\n",
        "# SVM\n",
        "svm_model = SVC()\n",
        "svm_model.fit(x_train, y_train)\n",
        "y_pred_svm = svm_model.predict(x_test)\n",
        "print(svm_model.score(x_train, y_train))\n"
      ]
    },
    {
      "cell_type": "code",
      "execution_count": 37,
      "metadata": {
        "id": "OY3nrHjNVaTG",
        "colab": {
          "base_uri": "https://localhost:8080/",
          "height": 1000
        },
        "outputId": "b3d99b47-3f4a-4c30-9f6c-5ebf4e788fda"
      },
      "outputs": [
        {
          "output_type": "stream",
          "name": "stdout",
          "text": [
            "[LightGBM] [Info] Auto-choosing row-wise multi-threading, the overhead of testing was 0.213570 seconds.\n",
            "You can set `force_row_wise=true` to remove the overhead.\n",
            "And if memory is not enough, you can set `force_col_wise=true`.\n",
            "[LightGBM] [Info] Total Bins 45599\n",
            "[LightGBM] [Info] Number of data points in the train set: 4000, number of used features: 1763\n",
            "[LightGBM] [Info] Start training from score -3.669077\n",
            "[LightGBM] [Info] Start training from score -4.443902\n",
            "[LightGBM] [Info] Start training from score -4.268698\n",
            "[LightGBM] [Info] Start training from score -4.605170\n",
            "[LightGBM] [Info] Start training from score -4.961845\n",
            "[LightGBM] [Info] Start training from score -1.960770\n",
            "[LightGBM] [Info] Start training from score -4.926754\n",
            "[LightGBM] [Info] Start training from score -1.429202\n",
            "[LightGBM] [Info] Start training from score -1.391307\n",
            "[LightGBM] [Info] Start training from score -4.268698\n",
            "[LightGBM] [Info] Start training from score -5.249527\n",
            "[LightGBM] [Info] Start training from score -5.521461\n",
            "[LightGBM] [Info] Start training from score -5.349611\n",
            "[LightGBM] [Info] Start training from score -3.257097\n",
            "[LightGBM] [Info] Start training from score -4.323758\n",
            "[LightGBM] [Info] Start training from score -5.521461\n",
            "[LightGBM] [Info] Start training from score -5.075174\n",
            "[LightGBM] [Info] Start training from score -5.809143\n",
            "[LightGBM] [Info] Start training from score -4.119662\n",
            "[LightGBM] [Info] Start training from score -4.630488\n",
            "[LightGBM] [Info] Start training from score -4.250998\n",
            "[LightGBM] [Info] Start training from score -2.361804\n",
            "[LightGBM] [Info] Start training from score -4.860062\n",
            "[LightGBM] [Info] Start training from score -4.998213\n",
            "[LightGBM] [Info] Start training from score -3.338223\n",
            "[LightGBM] [Info] Start training from score -6.214608\n",
            "[LightGBM] [Info] Start training from score -4.135167\n",
            "[LightGBM] [Warning] No further splits with positive gain, best gain: -inf\n",
            "[LightGBM] [Warning] No further splits with positive gain, best gain: -inf\n",
            "[LightGBM] [Warning] No further splits with positive gain, best gain: -inf\n",
            "[LightGBM] [Warning] No further splits with positive gain, best gain: -inf\n",
            "[LightGBM] [Warning] No further splits with positive gain, best gain: -inf\n",
            "[LightGBM] [Warning] No further splits with positive gain, best gain: -inf\n",
            "[LightGBM] [Warning] No further splits with positive gain, best gain: -inf\n",
            "[LightGBM] [Warning] No further splits with positive gain, best gain: -inf\n",
            "[LightGBM] [Warning] No further splits with positive gain, best gain: -inf\n",
            "[LightGBM] [Warning] No further splits with positive gain, best gain: -inf\n",
            "[LightGBM] [Warning] No further splits with positive gain, best gain: -inf\n",
            "[LightGBM] [Warning] No further splits with positive gain, best gain: -inf\n",
            "[LightGBM] [Warning] No further splits with positive gain, best gain: -inf\n",
            "[LightGBM] [Warning] No further splits with positive gain, best gain: -inf\n",
            "[LightGBM] [Warning] No further splits with positive gain, best gain: -inf\n",
            "[LightGBM] [Warning] No further splits with positive gain, best gain: -inf\n",
            "[LightGBM] [Warning] No further splits with positive gain, best gain: -inf\n",
            "[LightGBM] [Warning] No further splits with positive gain, best gain: -inf\n",
            "[LightGBM] [Warning] No further splits with positive gain, best gain: -inf\n",
            "[LightGBM] [Warning] No further splits with positive gain, best gain: -inf\n",
            "[LightGBM] [Warning] No further splits with positive gain, best gain: -inf\n",
            "[LightGBM] [Warning] No further splits with positive gain, best gain: -inf\n",
            "[LightGBM] [Warning] No further splits with positive gain, best gain: -inf\n",
            "[LightGBM] [Warning] No further splits with positive gain, best gain: -inf\n",
            "[LightGBM] [Warning] No further splits with positive gain, best gain: -inf\n",
            "[LightGBM] [Warning] No further splits with positive gain, best gain: -inf\n",
            "[LightGBM] [Warning] No further splits with positive gain, best gain: -inf\n",
            "[LightGBM] [Warning] No further splits with positive gain, best gain: -inf\n",
            "[LightGBM] [Warning] No further splits with positive gain, best gain: -inf\n",
            "[LightGBM] [Warning] No further splits with positive gain, best gain: -inf\n",
            "[LightGBM] [Warning] No further splits with positive gain, best gain: -inf\n",
            "[LightGBM] [Warning] No further splits with positive gain, best gain: -inf\n",
            "[LightGBM] [Warning] No further splits with positive gain, best gain: -inf\n",
            "[LightGBM] [Warning] No further splits with positive gain, best gain: -inf\n",
            "[LightGBM] [Warning] No further splits with positive gain, best gain: -inf\n",
            "[LightGBM] [Warning] No further splits with positive gain, best gain: -inf\n",
            "[LightGBM] [Warning] No further splits with positive gain, best gain: -inf\n",
            "[LightGBM] [Warning] No further splits with positive gain, best gain: -inf\n",
            "[LightGBM] [Warning] No further splits with positive gain, best gain: -inf\n",
            "[LightGBM] [Warning] No further splits with positive gain, best gain: -inf\n",
            "[LightGBM] [Warning] No further splits with positive gain, best gain: -inf\n",
            "[LightGBM] [Warning] No further splits with positive gain, best gain: -inf\n",
            "[LightGBM] [Warning] No further splits with positive gain, best gain: -inf\n",
            "[LightGBM] [Warning] No further splits with positive gain, best gain: -inf\n",
            "[LightGBM] [Warning] No further splits with positive gain, best gain: -inf\n",
            "[LightGBM] [Warning] No further splits with positive gain, best gain: -inf\n",
            "[LightGBM] [Warning] No further splits with positive gain, best gain: -inf\n",
            "[LightGBM] [Warning] No further splits with positive gain, best gain: -inf\n",
            "[LightGBM] [Warning] No further splits with positive gain, best gain: -inf\n",
            "[LightGBM] [Warning] No further splits with positive gain, best gain: -inf\n",
            "[LightGBM] [Warning] No further splits with positive gain, best gain: -inf\n",
            "[LightGBM] [Warning] No further splits with positive gain, best gain: -inf\n",
            "[LightGBM] [Warning] No further splits with positive gain, best gain: -inf\n",
            "[LightGBM] [Warning] No further splits with positive gain, best gain: -inf\n",
            "[LightGBM] [Warning] No further splits with positive gain, best gain: -inf\n",
            "[LightGBM] [Warning] No further splits with positive gain, best gain: -inf\n",
            "[LightGBM] [Warning] No further splits with positive gain, best gain: -inf\n",
            "[LightGBM] [Warning] No further splits with positive gain, best gain: -inf\n",
            "[LightGBM] [Warning] No further splits with positive gain, best gain: -inf\n",
            "[LightGBM] [Warning] No further splits with positive gain, best gain: -inf\n",
            "[LightGBM] [Warning] No further splits with positive gain, best gain: -inf\n",
            "[LightGBM] [Warning] No further splits with positive gain, best gain: -inf\n",
            "[LightGBM] [Warning] No further splits with positive gain, best gain: -inf\n",
            "[LightGBM] [Warning] No further splits with positive gain, best gain: -inf\n",
            "[LightGBM] [Warning] No further splits with positive gain, best gain: -inf\n",
            "[LightGBM] [Warning] No further splits with positive gain, best gain: -inf\n",
            "[LightGBM] [Warning] No further splits with positive gain, best gain: -inf\n",
            "[LightGBM] [Warning] No further splits with positive gain, best gain: -inf\n",
            "[LightGBM] [Warning] No further splits with positive gain, best gain: -inf\n",
            "[LightGBM] [Warning] No further splits with positive gain, best gain: -inf\n",
            "[LightGBM] [Warning] No further splits with positive gain, best gain: -inf\n",
            "[LightGBM] [Warning] No further splits with positive gain, best gain: -inf\n",
            "[LightGBM] [Warning] No further splits with positive gain, best gain: -inf\n",
            "[LightGBM] [Warning] No further splits with positive gain, best gain: -inf\n",
            "[LightGBM] [Warning] No further splits with positive gain, best gain: -inf\n",
            "[LightGBM] [Warning] No further splits with positive gain, best gain: -inf\n",
            "[LightGBM] [Warning] No further splits with positive gain, best gain: -inf\n",
            "[LightGBM] [Warning] No further splits with positive gain, best gain: -inf\n",
            "[LightGBM] [Warning] No further splits with positive gain, best gain: -inf\n",
            "[LightGBM] [Warning] No further splits with positive gain, best gain: -inf\n",
            "[LightGBM] [Warning] No further splits with positive gain, best gain: -inf\n",
            "[LightGBM] [Warning] No further splits with positive gain, best gain: -inf\n",
            "[LightGBM] [Warning] No further splits with positive gain, best gain: -inf\n",
            "[LightGBM] [Warning] No further splits with positive gain, best gain: -inf\n",
            "[LightGBM] [Warning] No further splits with positive gain, best gain: -inf\n",
            "[LightGBM] [Warning] No further splits with positive gain, best gain: -inf\n",
            "[LightGBM] [Warning] No further splits with positive gain, best gain: -inf\n",
            "[LightGBM] [Warning] No further splits with positive gain, best gain: -inf\n",
            "[LightGBM] [Warning] No further splits with positive gain, best gain: -inf\n",
            "[LightGBM] [Warning] No further splits with positive gain, best gain: -inf\n",
            "[LightGBM] [Warning] No further splits with positive gain, best gain: -inf\n",
            "[LightGBM] [Warning] No further splits with positive gain, best gain: -inf\n",
            "[LightGBM] [Warning] No further splits with positive gain, best gain: -inf\n",
            "[LightGBM] [Warning] No further splits with positive gain, best gain: -inf\n",
            "[LightGBM] [Warning] No further splits with positive gain, best gain: -inf\n",
            "[LightGBM] [Warning] No further splits with positive gain, best gain: -inf\n",
            "[LightGBM] [Warning] No further splits with positive gain, best gain: -inf\n",
            "[LightGBM] [Warning] No further splits with positive gain, best gain: -inf\n",
            "[LightGBM] [Warning] No further splits with positive gain, best gain: -inf\n",
            "[LightGBM] [Warning] No further splits with positive gain, best gain: -inf\n",
            "[LightGBM] [Warning] No further splits with positive gain, best gain: -inf\n",
            "[LightGBM] [Warning] No further splits with positive gain, best gain: -inf\n",
            "[LightGBM] [Warning] No further splits with positive gain, best gain: -inf\n",
            "[LightGBM] [Warning] No further splits with positive gain, best gain: -inf\n",
            "[LightGBM] [Warning] No further splits with positive gain, best gain: -inf\n",
            "[LightGBM] [Warning] No further splits with positive gain, best gain: -inf\n",
            "[LightGBM] [Warning] No further splits with positive gain, best gain: -inf\n",
            "[LightGBM] [Warning] No further splits with positive gain, best gain: -inf\n",
            "[LightGBM] [Warning] No further splits with positive gain, best gain: -inf\n",
            "[LightGBM] [Warning] No further splits with positive gain, best gain: -inf\n",
            "[LightGBM] [Warning] No further splits with positive gain, best gain: -inf\n",
            "[LightGBM] [Warning] No further splits with positive gain, best gain: -inf\n",
            "[LightGBM] [Warning] No further splits with positive gain, best gain: -inf\n",
            "[LightGBM] [Warning] No further splits with positive gain, best gain: -inf\n",
            "[LightGBM] [Warning] No further splits with positive gain, best gain: -inf\n",
            "[LightGBM] [Warning] No further splits with positive gain, best gain: -inf\n",
            "[LightGBM] [Warning] No further splits with positive gain, best gain: -inf\n",
            "[LightGBM] [Warning] No further splits with positive gain, best gain: -inf\n",
            "[LightGBM] [Warning] No further splits with positive gain, best gain: -inf\n",
            "[LightGBM] [Warning] No further splits with positive gain, best gain: -inf\n",
            "[LightGBM] [Warning] No further splits with positive gain, best gain: -inf\n",
            "[LightGBM] [Warning] No further splits with positive gain, best gain: -inf\n",
            "[LightGBM] [Warning] No further splits with positive gain, best gain: -inf\n",
            "[LightGBM] [Warning] No further splits with positive gain, best gain: -inf\n",
            "[LightGBM] [Warning] No further splits with positive gain, best gain: -inf\n",
            "[LightGBM] [Warning] No further splits with positive gain, best gain: -inf\n",
            "[LightGBM] [Warning] No further splits with positive gain, best gain: -inf\n",
            "[LightGBM] [Warning] No further splits with positive gain, best gain: -inf\n",
            "[LightGBM] [Warning] No further splits with positive gain, best gain: -inf\n",
            "[LightGBM] [Warning] No further splits with positive gain, best gain: -inf\n",
            "[LightGBM] [Warning] No further splits with positive gain, best gain: -inf\n",
            "[LightGBM] [Warning] No further splits with positive gain, best gain: -inf\n",
            "[LightGBM] [Warning] No further splits with positive gain, best gain: -inf\n",
            "[LightGBM] [Warning] No further splits with positive gain, best gain: -inf\n",
            "[LightGBM] [Warning] No further splits with positive gain, best gain: -inf\n",
            "[LightGBM] [Warning] No further splits with positive gain, best gain: -inf\n",
            "[LightGBM] [Warning] No further splits with positive gain, best gain: -inf\n",
            "[LightGBM] [Warning] No further splits with positive gain, best gain: -inf\n",
            "[LightGBM] [Warning] No further splits with positive gain, best gain: -inf\n",
            "[LightGBM] [Warning] No further splits with positive gain, best gain: -inf\n",
            "[LightGBM] [Warning] No further splits with positive gain, best gain: -inf\n",
            "[LightGBM] [Warning] No further splits with positive gain, best gain: -inf\n",
            "[LightGBM] [Warning] No further splits with positive gain, best gain: -inf\n",
            "[LightGBM] [Warning] No further splits with positive gain, best gain: -inf\n",
            "[LightGBM] [Warning] No further splits with positive gain, best gain: -inf\n",
            "[LightGBM] [Warning] No further splits with positive gain, best gain: -inf\n",
            "[LightGBM] [Warning] No further splits with positive gain, best gain: -inf\n",
            "[LightGBM] [Warning] No further splits with positive gain, best gain: -inf\n",
            "[LightGBM] [Warning] No further splits with positive gain, best gain: -inf\n",
            "[LightGBM] [Warning] No further splits with positive gain, best gain: -inf\n",
            "[LightGBM] [Warning] No further splits with positive gain, best gain: -inf\n",
            "[LightGBM] [Warning] No further splits with positive gain, best gain: -inf\n",
            "[LightGBM] [Warning] No further splits with positive gain, best gain: -inf\n",
            "[LightGBM] [Warning] No further splits with positive gain, best gain: -inf\n",
            "[LightGBM] [Warning] No further splits with positive gain, best gain: -inf\n",
            "[LightGBM] [Warning] No further splits with positive gain, best gain: -inf\n",
            "[LightGBM] [Warning] No further splits with positive gain, best gain: -inf\n",
            "[LightGBM] [Warning] No further splits with positive gain, best gain: -inf\n",
            "[LightGBM] [Warning] No further splits with positive gain, best gain: -inf\n",
            "[LightGBM] [Warning] No further splits with positive gain, best gain: -inf\n",
            "[LightGBM] [Warning] No further splits with positive gain, best gain: -inf\n",
            "[LightGBM] [Warning] No further splits with positive gain, best gain: -inf\n",
            "[LightGBM] [Warning] No further splits with positive gain, best gain: -inf\n",
            "[LightGBM] [Warning] No further splits with positive gain, best gain: -inf\n",
            "[LightGBM] [Warning] No further splits with positive gain, best gain: -inf\n",
            "[LightGBM] [Warning] No further splits with positive gain, best gain: -inf\n",
            "[LightGBM] [Warning] No further splits with positive gain, best gain: -inf\n",
            "[LightGBM] [Warning] No further splits with positive gain, best gain: -inf\n",
            "[LightGBM] [Warning] No further splits with positive gain, best gain: -inf\n",
            "[LightGBM] [Warning] No further splits with positive gain, best gain: -inf\n",
            "[LightGBM] [Warning] No further splits with positive gain, best gain: -inf\n",
            "[LightGBM] [Warning] No further splits with positive gain, best gain: -inf\n",
            "[LightGBM] [Warning] No further splits with positive gain, best gain: -inf\n",
            "[LightGBM] [Warning] No further splits with positive gain, best gain: -inf\n",
            "[LightGBM] [Warning] No further splits with positive gain, best gain: -inf\n",
            "[LightGBM] [Warning] No further splits with positive gain, best gain: -inf\n",
            "[LightGBM] [Warning] No further splits with positive gain, best gain: -inf\n",
            "[LightGBM] [Warning] No further splits with positive gain, best gain: -inf\n",
            "[LightGBM] [Warning] No further splits with positive gain, best gain: -inf\n",
            "[LightGBM] [Warning] No further splits with positive gain, best gain: -inf\n",
            "[LightGBM] [Warning] No further splits with positive gain, best gain: -inf\n",
            "[LightGBM] [Warning] No further splits with positive gain, best gain: -inf\n",
            "[LightGBM] [Warning] No further splits with positive gain, best gain: -inf\n",
            "[LightGBM] [Warning] No further splits with positive gain, best gain: -inf\n",
            "[LightGBM] [Warning] No further splits with positive gain, best gain: -inf\n",
            "[LightGBM] [Warning] No further splits with positive gain, best gain: -inf\n",
            "[LightGBM] [Warning] No further splits with positive gain, best gain: -inf\n",
            "[LightGBM] [Warning] No further splits with positive gain, best gain: -inf\n",
            "[LightGBM] [Warning] No further splits with positive gain, best gain: -inf\n",
            "[LightGBM] [Warning] No further splits with positive gain, best gain: -inf\n",
            "[LightGBM] [Warning] No further splits with positive gain, best gain: -inf\n",
            "[LightGBM] [Warning] No further splits with positive gain, best gain: -inf\n",
            "[LightGBM] [Warning] No further splits with positive gain, best gain: -inf\n",
            "[LightGBM] [Warning] No further splits with positive gain, best gain: -inf\n",
            "[LightGBM] [Warning] No further splits with positive gain, best gain: -inf\n",
            "[LightGBM] [Warning] No further splits with positive gain, best gain: -inf\n",
            "[LightGBM] [Warning] No further splits with positive gain, best gain: -inf\n",
            "[LightGBM] [Warning] No further splits with positive gain, best gain: -inf\n",
            "[LightGBM] [Warning] No further splits with positive gain, best gain: -inf\n",
            "[LightGBM] [Warning] No further splits with positive gain, best gain: -inf\n",
            "[LightGBM] [Warning] No further splits with positive gain, best gain: -inf\n",
            "[LightGBM] [Warning] No further splits with positive gain, best gain: -inf\n",
            "[LightGBM] [Warning] No further splits with positive gain, best gain: -inf\n",
            "[LightGBM] [Warning] No further splits with positive gain, best gain: -inf\n",
            "[LightGBM] [Warning] No further splits with positive gain, best gain: -inf\n",
            "[LightGBM] [Warning] No further splits with positive gain, best gain: -inf\n",
            "[LightGBM] [Warning] No further splits with positive gain, best gain: -inf\n",
            "[LightGBM] [Warning] No further splits with positive gain, best gain: -inf\n",
            "[LightGBM] [Warning] No further splits with positive gain, best gain: -inf\n",
            "[LightGBM] [Warning] No further splits with positive gain, best gain: -inf\n",
            "[LightGBM] [Warning] No further splits with positive gain, best gain: -inf\n",
            "[LightGBM] [Warning] No further splits with positive gain, best gain: -inf\n",
            "[LightGBM] [Warning] No further splits with positive gain, best gain: -inf\n",
            "[LightGBM] [Warning] No further splits with positive gain, best gain: -inf\n",
            "[LightGBM] [Warning] No further splits with positive gain, best gain: -inf\n",
            "[LightGBM] [Warning] No further splits with positive gain, best gain: -inf\n",
            "[LightGBM] [Warning] No further splits with positive gain, best gain: -inf\n",
            "[LightGBM] [Warning] No further splits with positive gain, best gain: -inf\n",
            "[LightGBM] [Warning] No further splits with positive gain, best gain: -inf\n",
            "[LightGBM] [Warning] No further splits with positive gain, best gain: -inf\n",
            "[LightGBM] [Warning] No further splits with positive gain, best gain: -inf\n",
            "[LightGBM] [Warning] No further splits with positive gain, best gain: -inf\n",
            "[LightGBM] [Warning] No further splits with positive gain, best gain: -inf\n",
            "[LightGBM] [Warning] No further splits with positive gain, best gain: -inf\n",
            "[LightGBM] [Warning] No further splits with positive gain, best gain: -inf\n",
            "[LightGBM] [Warning] No further splits with positive gain, best gain: -inf\n",
            "[LightGBM] [Warning] No further splits with positive gain, best gain: -inf\n",
            "[LightGBM] [Warning] No further splits with positive gain, best gain: -inf\n",
            "[LightGBM] [Warning] No further splits with positive gain, best gain: -inf\n",
            "[LightGBM] [Warning] No further splits with positive gain, best gain: -inf\n",
            "[LightGBM] [Warning] No further splits with positive gain, best gain: -inf\n",
            "[LightGBM] [Warning] No further splits with positive gain, best gain: -inf\n",
            "[LightGBM] [Warning] No further splits with positive gain, best gain: -inf\n",
            "[LightGBM] [Warning] No further splits with positive gain, best gain: -inf\n",
            "[LightGBM] [Warning] No further splits with positive gain, best gain: -inf\n",
            "[LightGBM] [Warning] No further splits with positive gain, best gain: -inf\n",
            "[LightGBM] [Warning] No further splits with positive gain, best gain: -inf\n",
            "[LightGBM] [Warning] No further splits with positive gain, best gain: -inf\n",
            "[LightGBM] [Warning] No further splits with positive gain, best gain: -inf\n",
            "[LightGBM] [Warning] No further splits with positive gain, best gain: -inf\n",
            "[LightGBM] [Warning] No further splits with positive gain, best gain: -inf\n",
            "[LightGBM] [Warning] No further splits with positive gain, best gain: -inf\n",
            "[LightGBM] [Warning] No further splits with positive gain, best gain: -inf\n",
            "[LightGBM] [Warning] No further splits with positive gain, best gain: -inf\n",
            "[LightGBM] [Warning] No further splits with positive gain, best gain: -inf\n",
            "[LightGBM] [Warning] No further splits with positive gain, best gain: -inf\n",
            "[LightGBM] [Warning] No further splits with positive gain, best gain: -inf\n",
            "[LightGBM] [Warning] No further splits with positive gain, best gain: -inf\n",
            "[LightGBM] [Warning] No further splits with positive gain, best gain: -inf\n",
            "[LightGBM] [Warning] No further splits with positive gain, best gain: -inf\n",
            "[LightGBM] [Warning] No further splits with positive gain, best gain: -inf\n",
            "[LightGBM] [Warning] No further splits with positive gain, best gain: -inf\n",
            "[LightGBM] [Warning] No further splits with positive gain, best gain: -inf\n",
            "[LightGBM] [Warning] No further splits with positive gain, best gain: -inf\n",
            "[LightGBM] [Warning] No further splits with positive gain, best gain: -inf\n",
            "[LightGBM] [Warning] No further splits with positive gain, best gain: -inf\n",
            "[LightGBM] [Warning] No further splits with positive gain, best gain: -inf\n",
            "[LightGBM] [Warning] No further splits with positive gain, best gain: -inf\n",
            "[LightGBM] [Warning] No further splits with positive gain, best gain: -inf\n",
            "[LightGBM] [Warning] No further splits with positive gain, best gain: -inf\n",
            "[LightGBM] [Warning] No further splits with positive gain, best gain: -inf\n",
            "[LightGBM] [Warning] No further splits with positive gain, best gain: -inf\n",
            "[LightGBM] [Warning] No further splits with positive gain, best gain: -inf\n",
            "[LightGBM] [Warning] No further splits with positive gain, best gain: -inf\n",
            "[LightGBM] [Warning] No further splits with positive gain, best gain: -inf\n",
            "[LightGBM] [Warning] No further splits with positive gain, best gain: -inf\n",
            "[LightGBM] [Warning] No further splits with positive gain, best gain: -inf\n",
            "[LightGBM] [Warning] No further splits with positive gain, best gain: -inf\n",
            "[LightGBM] [Warning] No further splits with positive gain, best gain: -inf\n",
            "[LightGBM] [Warning] No further splits with positive gain, best gain: -inf\n",
            "[LightGBM] [Warning] No further splits with positive gain, best gain: -inf\n",
            "[LightGBM] [Warning] No further splits with positive gain, best gain: -inf\n",
            "[LightGBM] [Warning] No further splits with positive gain, best gain: -inf\n",
            "[LightGBM] [Warning] No further splits with positive gain, best gain: -inf\n",
            "[LightGBM] [Warning] No further splits with positive gain, best gain: -inf\n",
            "[LightGBM] [Warning] No further splits with positive gain, best gain: -inf\n",
            "[LightGBM] [Warning] No further splits with positive gain, best gain: -inf\n",
            "[LightGBM] [Warning] No further splits with positive gain, best gain: -inf\n",
            "[LightGBM] [Warning] No further splits with positive gain, best gain: -inf\n",
            "[LightGBM] [Warning] No further splits with positive gain, best gain: -inf\n",
            "[LightGBM] [Warning] No further splits with positive gain, best gain: -inf\n",
            "[LightGBM] [Warning] No further splits with positive gain, best gain: -inf\n",
            "[LightGBM] [Warning] No further splits with positive gain, best gain: -inf\n",
            "[LightGBM] [Warning] No further splits with positive gain, best gain: -inf\n",
            "[LightGBM] [Warning] No further splits with positive gain, best gain: -inf\n",
            "[LightGBM] [Warning] No further splits with positive gain, best gain: -inf\n",
            "[LightGBM] [Warning] No further splits with positive gain, best gain: -inf\n",
            "[LightGBM] [Warning] No further splits with positive gain, best gain: -inf\n",
            "[LightGBM] [Warning] No further splits with positive gain, best gain: -inf\n",
            "[LightGBM] [Warning] No further splits with positive gain, best gain: -inf\n",
            "[LightGBM] [Warning] No further splits with positive gain, best gain: -inf\n",
            "[LightGBM] [Warning] No further splits with positive gain, best gain: -inf\n",
            "[LightGBM] [Warning] No further splits with positive gain, best gain: -inf\n",
            "[LightGBM] [Warning] No further splits with positive gain, best gain: -inf\n",
            "[LightGBM] [Warning] No further splits with positive gain, best gain: -inf\n",
            "[LightGBM] [Warning] No further splits with positive gain, best gain: -inf\n",
            "[LightGBM] [Warning] No further splits with positive gain, best gain: -inf\n",
            "[LightGBM] [Warning] No further splits with positive gain, best gain: -inf\n",
            "[LightGBM] [Warning] No further splits with positive gain, best gain: -inf\n",
            "[LightGBM] [Warning] No further splits with positive gain, best gain: -inf\n",
            "[LightGBM] [Warning] No further splits with positive gain, best gain: -inf\n",
            "[LightGBM] [Warning] No further splits with positive gain, best gain: -inf\n",
            "[LightGBM] [Warning] No further splits with positive gain, best gain: -inf\n",
            "[LightGBM] [Warning] No further splits with positive gain, best gain: -inf\n",
            "[LightGBM] [Warning] No further splits with positive gain, best gain: -inf\n",
            "[LightGBM] [Warning] No further splits with positive gain, best gain: -inf\n",
            "[LightGBM] [Warning] No further splits with positive gain, best gain: -inf\n",
            "[LightGBM] [Warning] No further splits with positive gain, best gain: -inf\n",
            "[LightGBM] [Warning] No further splits with positive gain, best gain: -inf\n",
            "[LightGBM] [Warning] No further splits with positive gain, best gain: -inf\n",
            "[LightGBM] [Warning] No further splits with positive gain, best gain: -inf\n",
            "[LightGBM] [Warning] No further splits with positive gain, best gain: -inf\n",
            "[LightGBM] [Warning] No further splits with positive gain, best gain: -inf\n",
            "[LightGBM] [Warning] No further splits with positive gain, best gain: -inf\n",
            "[LightGBM] [Warning] No further splits with positive gain, best gain: -inf\n",
            "[LightGBM] [Warning] No further splits with positive gain, best gain: -inf\n",
            "[LightGBM] [Warning] No further splits with positive gain, best gain: -inf\n",
            "[LightGBM] [Warning] No further splits with positive gain, best gain: -inf\n",
            "[LightGBM] [Warning] No further splits with positive gain, best gain: -inf\n",
            "[LightGBM] [Warning] No further splits with positive gain, best gain: -inf\n",
            "[LightGBM] [Warning] No further splits with positive gain, best gain: -inf\n",
            "[LightGBM] [Warning] No further splits with positive gain, best gain: -inf\n",
            "[LightGBM] [Warning] No further splits with positive gain, best gain: -inf\n",
            "[LightGBM] [Warning] No further splits with positive gain, best gain: -inf\n",
            "[LightGBM] [Warning] No further splits with positive gain, best gain: -inf\n",
            "[LightGBM] [Warning] No further splits with positive gain, best gain: -inf\n",
            "[LightGBM] [Warning] No further splits with positive gain, best gain: -inf\n",
            "[LightGBM] [Warning] No further splits with positive gain, best gain: -inf\n",
            "[LightGBM] [Warning] No further splits with positive gain, best gain: -inf\n",
            "[LightGBM] [Warning] No further splits with positive gain, best gain: -inf\n",
            "[LightGBM] [Warning] No further splits with positive gain, best gain: -inf\n",
            "[LightGBM] [Warning] No further splits with positive gain, best gain: -inf\n",
            "[LightGBM] [Warning] No further splits with positive gain, best gain: -inf\n",
            "[LightGBM] [Warning] No further splits with positive gain, best gain: -inf\n",
            "[LightGBM] [Warning] No further splits with positive gain, best gain: -inf\n",
            "[LightGBM] [Warning] No further splits with positive gain, best gain: -inf\n",
            "[LightGBM] [Warning] No further splits with positive gain, best gain: -inf\n",
            "[LightGBM] [Warning] No further splits with positive gain, best gain: -inf\n",
            "[LightGBM] [Warning] No further splits with positive gain, best gain: -inf\n",
            "[LightGBM] [Warning] No further splits with positive gain, best gain: -inf\n",
            "[LightGBM] [Warning] No further splits with positive gain, best gain: -inf\n",
            "[LightGBM] [Warning] No further splits with positive gain, best gain: -inf\n",
            "[LightGBM] [Warning] No further splits with positive gain, best gain: -inf\n",
            "[LightGBM] [Warning] No further splits with positive gain, best gain: -inf\n",
            "[LightGBM] [Warning] No further splits with positive gain, best gain: -inf\n",
            "[LightGBM] [Warning] No further splits with positive gain, best gain: -inf\n",
            "[LightGBM] [Warning] No further splits with positive gain, best gain: -inf\n",
            "[LightGBM] [Warning] No further splits with positive gain, best gain: -inf\n",
            "[LightGBM] [Warning] No further splits with positive gain, best gain: -inf\n",
            "[LightGBM] [Warning] No further splits with positive gain, best gain: -inf\n",
            "[LightGBM] [Warning] No further splits with positive gain, best gain: -inf\n",
            "[LightGBM] [Warning] No further splits with positive gain, best gain: -inf\n",
            "[LightGBM] [Warning] No further splits with positive gain, best gain: -inf\n",
            "[LightGBM] [Warning] No further splits with positive gain, best gain: -inf\n",
            "[LightGBM] [Warning] No further splits with positive gain, best gain: -inf\n",
            "[LightGBM] [Warning] No further splits with positive gain, best gain: -inf\n",
            "[LightGBM] [Warning] No further splits with positive gain, best gain: -inf\n",
            "[LightGBM] [Warning] No further splits with positive gain, best gain: -inf\n",
            "[LightGBM] [Warning] No further splits with positive gain, best gain: -inf\n",
            "[LightGBM] [Warning] No further splits with positive gain, best gain: -inf\n",
            "[LightGBM] [Warning] No further splits with positive gain, best gain: -inf\n",
            "[LightGBM] [Warning] No further splits with positive gain, best gain: -inf\n",
            "[LightGBM] [Warning] No further splits with positive gain, best gain: -inf\n",
            "[LightGBM] [Warning] No further splits with positive gain, best gain: -inf\n",
            "0.99975\n"
          ]
        },
        {
          "output_type": "execute_result",
          "data": {
            "text/plain": [
              "'cat_model = CatBoostClassifier(verbose= False)\\ncat_model.fit(x_train, y_train)\\ny_pred_cat = cat_model.predict(x_test)\\nprint(cat_model.score(x_train, y_train))'"
            ],
            "application/vnd.google.colaboratory.intrinsic+json": {
              "type": "string"
            }
          },
          "metadata": {},
          "execution_count": 37
        }
      ],
      "source": [
        "# LightGBM\n",
        "lgbm_model = LGBMClassifier()\n",
        "lgbm_model.fit(x_train, y_train)\n",
        "y_pred_lgbm = lgbm_model.predict(x_test)\n",
        "print(lgbm_model.score(x_train, y_train))\n",
        "\n",
        "# XGboost\n",
        "'''xgb_model = XGBClassifier()              # Required 0 to 9 unique values\n",
        "xgb_model.fit(x_train, y_train)\n",
        "y_pred_xgb = xgb_model.predict(x_test)\n",
        "print(xgb_model.score(x_train, y_train))'''\n",
        "\n",
        "# Catboost\n",
        "'''cat_model = CatBoostClassifier(verbose= False)\n",
        "cat_model.fit(x_train, y_train)\n",
        "y_pred_cat = cat_model.predict(x_test)\n",
        "print(cat_model.score(x_train, y_train))'''\n"
      ]
    },
    {
      "cell_type": "markdown",
      "metadata": {
        "id": "mWo-h6j5Y2OX"
      },
      "source": [
        "### Model Evaluation"
      ]
    },
    {
      "cell_type": "markdown",
      "metadata": {
        "id": "mileK2kxyRrK"
      },
      "source": [
        "Logistic Regression"
      ]
    },
    {
      "cell_type": "code",
      "execution_count": 48,
      "metadata": {
        "id": "9OQv-d77Y7_U",
        "colab": {
          "base_uri": "https://localhost:8080/"
        },
        "outputId": "ccb5fa5a-300a-4376-df18-2ffbe8cc81b5"
      },
      "outputs": [
        {
          "output_type": "stream",
          "name": "stdout",
          "text": [
            "The performance evaluation of Logistic Regression Model is below:  \n",
            "\n",
            "Accuracy Score:  0.489 \n",
            "\n",
            "Precision Score:  0.489 \n",
            "\n",
            "F1 Score:  0.489 \n",
            "\n",
            "Recall Score:  0.489 \n",
            "\n"
          ]
        }
      ],
      "source": [
        "# Logistic Regression\n",
        "print('The performance evaluation of Logistic Regression Model is below: ', '\\n')\n",
        "print('Accuracy Score: ', accuracy_score(y_test, y_pred_log), '\\n')\n",
        "print('Precision Score: ', precision_score(y_test, y_pred_log, average='micro'), '\\n')\n",
        "print('F1 Score: ', f1_score(y_test, y_pred_log, average='micro'), '\\n')\n",
        "print('Recall Score: ', recall_score(y_test, y_pred_log, average='micro'), '\\n')"
      ]
    },
    {
      "cell_type": "markdown",
      "metadata": {
        "id": "WJNd_Ww16CoW"
      },
      "source": [
        "Naive_Bayes"
      ]
    },
    {
      "cell_type": "code",
      "execution_count": 49,
      "metadata": {
        "id": "e8L_q3y75-KR",
        "colab": {
          "base_uri": "https://localhost:8080/"
        },
        "outputId": "6b7f8b23-c021-49d8-801e-42b88686e51f"
      },
      "outputs": [
        {
          "output_type": "stream",
          "name": "stdout",
          "text": [
            "The performance evaluation of Naive_Bayes Model is below:  \n",
            "\n",
            "Accuracy Score:  0.439 \n",
            "\n",
            "Precision Score:  0.439 \n",
            "\n",
            "F1 Score:  0.439 \n",
            "\n",
            "Recall Score:  0.439 \n",
            "\n"
          ]
        }
      ],
      "source": [
        "# Naive_Bayes\n",
        "print('The performance evaluation of Naive_Bayes Model is below: ', '\\n')\n",
        "print('Accuracy Score: ', accuracy_score(y_test, y_pred_nb), '\\n')\n",
        "print('Precision Score: ', precision_score(y_test, y_pred_nb, average='micro'), '\\n')\n",
        "print('F1 Score: ', f1_score(y_test, y_pred_nb, average='micro'), '\\n')\n",
        "print('Recall Score: ', recall_score(y_test, y_pred_nb, average='micro'), '\\n')"
      ]
    },
    {
      "cell_type": "markdown",
      "metadata": {
        "id": "8F7YbNTN6D6_"
      },
      "source": [
        "Neural Network"
      ]
    },
    {
      "cell_type": "code",
      "execution_count": 50,
      "metadata": {
        "id": "XOEP8ZuF6Ejh",
        "colab": {
          "base_uri": "https://localhost:8080/"
        },
        "outputId": "e758a38d-5057-447b-c0b3-15ed38e0cc07"
      },
      "outputs": [
        {
          "output_type": "stream",
          "name": "stdout",
          "text": [
            "The performance evaluation of Logistic Regression Model is below:  \n",
            "\n",
            "Accuracy Score:  0.523 \n",
            "\n",
            "Precision Score:  0.523 \n",
            "\n",
            "F1 Score:  0.523 \n",
            "\n",
            "Recall Score:  0.523 \n",
            "\n"
          ]
        }
      ],
      "source": [
        "# Neural Network\n",
        "print('The performance evaluation of Logistic Regression Model is below: ', '\\n')\n",
        "print('Accuracy Score: ', accuracy_score(y_test, y_pred_nn), '\\n')\n",
        "print('Precision Score: ', precision_score(y_test, y_pred_nn, average='micro'), '\\n')\n",
        "print('F1 Score: ', f1_score(y_test, y_pred_nn, average='micro'), '\\n')\n",
        "print('Recall Score: ', recall_score(y_test, y_pred_nn, average='micro'), '\\n')"
      ]
    },
    {
      "cell_type": "markdown",
      "metadata": {
        "id": "YQEd7JH96t-u"
      },
      "source": [
        "Decision Tree Model"
      ]
    },
    {
      "cell_type": "code",
      "execution_count": 51,
      "metadata": {
        "id": "3-MDUR0A6uo2",
        "colab": {
          "base_uri": "https://localhost:8080/"
        },
        "outputId": "baa2c195-eba1-4ea2-c2b6-9fef2ec2654b"
      },
      "outputs": [
        {
          "output_type": "stream",
          "name": "stdout",
          "text": [
            "The performance evaluation of Decision Tree Model is below:  \n",
            "\n",
            "Accuracy Score:  0.336 \n",
            "\n",
            "Precision Score:  0.336 \n",
            "\n",
            "F1 Score:  0.336 \n",
            "\n",
            "Recall Score:  0.336 \n",
            "\n"
          ]
        }
      ],
      "source": [
        "# Decision Tree\n",
        "print('The performance evaluation of Decision Tree Model is below: ', '\\n')\n",
        "print('Accuracy Score: ', accuracy_score(y_test, y_pred_dt), '\\n')\n",
        "print('Precision Score: ', precision_score(y_test, y_pred_dt, average='micro'), '\\n')\n",
        "print('F1 Score: ', f1_score(y_test, y_pred_dt, average='micro'), '\\n')\n",
        "print('Recall Score: ', recall_score(y_test, y_pred_dt, average='micro'), '\\n')"
      ]
    },
    {
      "cell_type": "markdown",
      "metadata": {
        "id": "Ikfn_g_A6xYZ"
      },
      "source": [
        "Random Forest"
      ]
    },
    {
      "cell_type": "code",
      "execution_count": 52,
      "metadata": {
        "id": "MLQ8SezB6yRG",
        "colab": {
          "base_uri": "https://localhost:8080/"
        },
        "outputId": "0cd7df62-37e8-4e02-84b5-0f9562e6dcc8"
      },
      "outputs": [
        {
          "output_type": "stream",
          "name": "stdout",
          "text": [
            "The performance evaluation of Random Forest Model is below:  \n",
            "\n",
            "Accuracy Score:  0.451 \n",
            "\n",
            "Precision Score:  0.451 \n",
            "\n",
            "F1 Score:  0.451 \n",
            "\n",
            "Recall Score:  0.451 \n",
            "\n"
          ]
        }
      ],
      "source": [
        "# Random Forest\n",
        "print('The performance evaluation of Random Forest Model is below: ', '\\n')\n",
        "print('Accuracy Score: ', accuracy_score(y_test, y_pred_rf), '\\n')\n",
        "print('Precision Score: ', precision_score(y_test, y_pred_rf, average='micro'), '\\n')\n",
        "print('F1 Score: ', f1_score(y_test, y_pred_rf, average='micro'), '\\n')\n",
        "print('Recall Score: ', recall_score(y_test, y_pred_rf, average='micro'), '\\n')"
      ]
    },
    {
      "cell_type": "markdown",
      "metadata": {
        "id": "awhKsrnq60Iy"
      },
      "source": [
        "K-Neighbors"
      ]
    },
    {
      "cell_type": "code",
      "execution_count": 53,
      "metadata": {
        "id": "9YFPFaD160nH",
        "colab": {
          "base_uri": "https://localhost:8080/"
        },
        "outputId": "4791c327-73ec-456a-eb0f-bf870170c25b"
      },
      "outputs": [
        {
          "output_type": "stream",
          "name": "stdout",
          "text": [
            "The performance evaluation of K-Neighbors Model is below:  \n",
            "\n",
            "Accuracy Score:  0.373 \n",
            "\n",
            "Precision Score:  0.373 \n",
            "\n",
            "F1 Score:  0.373 \n",
            "\n",
            "Recall Score:  0.373 \n",
            "\n"
          ]
        }
      ],
      "source": [
        "# K-Neighbors\n",
        "print('The performance evaluation of K-Neighbors Model is below: ', '\\n')\n",
        "print('Accuracy Score: ', accuracy_score(y_test, y_pred_kn), '\\n')\n",
        "print('Precision Score: ', precision_score(y_test, y_pred_kn, average='micro'), '\\n')\n",
        "print('F1 Score: ', f1_score(y_test, y_pred_kn, average='micro'), '\\n')\n",
        "print('Recall Score: ', recall_score(y_test, y_pred_kn, average='micro'), '\\n')"
      ]
    },
    {
      "cell_type": "markdown",
      "metadata": {
        "id": "roDDutNA66xb"
      },
      "source": [
        "SVM"
      ]
    },
    {
      "cell_type": "code",
      "execution_count": 54,
      "metadata": {
        "id": "BovwaC5A65cV",
        "colab": {
          "base_uri": "https://localhost:8080/"
        },
        "outputId": "9431aacd-836b-4fe6-d73e-fac8447d2aac"
      },
      "outputs": [
        {
          "output_type": "stream",
          "name": "stdout",
          "text": [
            "The performance evaluation of SVM Model is below:  \n",
            "\n",
            "Accuracy Score:  0.465 \n",
            "\n",
            "Precision Score:  0.465 \n",
            "\n",
            "F1 Score:  0.465 \n",
            "\n",
            "Recall Score:  0.465 \n",
            "\n"
          ]
        }
      ],
      "source": [
        "# SVM\n",
        "print('The performance evaluation of SVM Model is below: ', '\\n')\n",
        "print('Accuracy Score: ', accuracy_score(y_test, y_pred_svm), '\\n')\n",
        "print('Precision Score: ', precision_score(y_test, y_pred_svm, average='micro'), '\\n')\n",
        "print('F1 Score: ', f1_score(y_test, y_pred_svm, average='micro'), '\\n')\n",
        "print('Recall Score: ', recall_score(y_test, y_pred_svm, average='micro'), '\\n')"
      ]
    },
    {
      "cell_type": "markdown",
      "metadata": {
        "id": "Nw7Ml69N7APT"
      },
      "source": [
        "LightGBM"
      ]
    },
    {
      "cell_type": "code",
      "execution_count": 55,
      "metadata": {
        "id": "HvDhz1Es69fs",
        "colab": {
          "base_uri": "https://localhost:8080/"
        },
        "outputId": "920a8975-141a-4e57-f9ee-007c7df332b8"
      },
      "outputs": [
        {
          "output_type": "stream",
          "name": "stdout",
          "text": [
            "The performance evaluation of LightGBM Model is below:  \n",
            "\n",
            "Accuracy Score:  0.499 \n",
            "\n",
            "Precision Score:  0.499 \n",
            "\n",
            "F1 Score:  0.499 \n",
            "\n",
            "Recall Score:  0.499 \n",
            "\n"
          ]
        }
      ],
      "source": [
        "# LightGBM\n",
        "print('The performance evaluation of LightGBM Model is below: ', '\\n')\n",
        "print('Accuracy Score: ', accuracy_score(y_test, y_pred_lgbm), '\\n')\n",
        "print('Precision Score: ', precision_score(y_test, y_pred_lgbm, average='micro'), '\\n')\n",
        "print('F1 Score: ', f1_score(y_test, y_pred_lgbm, average='micro'), '\\n')\n",
        "print('Recall Score: ', recall_score(y_test, y_pred_lgbm, average='micro'), '\\n')"
      ]
    },
    {
      "cell_type": "markdown",
      "metadata": {
        "id": "0OEVqlwZ7Fvu"
      },
      "source": [
        "XGboost"
      ]
    },
    {
      "cell_type": "code",
      "execution_count": null,
      "metadata": {
        "id": "UWLxup3R7GfH"
      },
      "outputs": [],
      "source": [
        "# XGboost\n",
        "'''print('The performance evaluation of XGboost Model is below: ', '\\n')\n",
        "print('Accuracy Score: ', accuracy_score(y_test, y_pred_xgb), '\\n')\n",
        "print('Precision Score: ', precision_score(y_test, y_pred_xgb, average='micro'), '\\n')\n",
        "print('F1 Score: ', f1_score(y_test, y_pred_xgb, average='micro'), '\\n')\n",
        "print('Recall Score: ', recall_score(y_test, y_pred_xgb, average='micro'), '\\n')\n",
        "print('Confusion Matrix: ', '\\n', confusion_matrix(y_test, y_pred_xgb), '\\n')\n",
        "print('Classification Report: ', '\\n', classification_report(y_test, y_pred_xgb), '\\n')'''"
      ]
    },
    {
      "cell_type": "markdown",
      "metadata": {
        "id": "FjmW_FVS8pNC"
      },
      "source": [
        "Catboost"
      ]
    },
    {
      "cell_type": "code",
      "execution_count": null,
      "metadata": {
        "id": "qwNYiTRX88Kp"
      },
      "outputs": [],
      "source": [
        "# Catboost\n",
        "'''print('The performance evaluation of Catboost Model is below: ', '\\n')\n",
        "print('Accuracy Score: ', accuracy_score(y_test, y_pred_cat), '\\n')\n",
        "print('Precision Score: ', precision_score(y_test, y_pred_cat, average='micro'), '\\n')\n",
        "print('F1 Score: ', f1_score(y_test, y_pred_cat, average='micro'), '\\n')\n",
        "print('Recall Score: ', recall_score(y_test, y_pred_cat, average='micro'), '\\n')\n",
        "print('Confusion Matrix: ', '\\n', confusion_matrix(y_test, y_pred_cat), '\\n')\n",
        "print('Classification Report: ', '\\n', classification_report(y_test, y_pred_cat), '\\n')'''"
      ]
    },
    {
      "cell_type": "markdown",
      "metadata": {
        "id": "qyDjFGnOS3ik"
      },
      "source": [
        "."
      ]
    },
    {
      "cell_type": "markdown",
      "metadata": {
        "id": "onhQ3a3Vsrnm"
      },
      "source": [
        "Actual Output vs Predicted Output"
      ]
    },
    {
      "cell_type": "code",
      "execution_count": 57,
      "metadata": {
        "id": "AdZNHa7gS4qB",
        "colab": {
          "base_uri": "https://localhost:8080/",
          "height": 889
        },
        "outputId": "649b03af-c310-4ca5-cfdd-c05a55ec1644"
      },
      "outputs": [
        {
          "output_type": "display_data",
          "data": {
            "text/plain": [
              "<Figure size 2200x2200 with 8 Axes>"
            ],
            "image/png": "[encoded data removed]"
          },
          "metadata": {}
        }
      ],
      "source": [
        "predictions = [y_pred_log, y_pred_nb, y_pred_nn, y_pred_dt, y_pred_rf, y_pred_kn, y_pred_svm, y_pred_lgbm]\n",
        "classifiers_name = ['Logistic Regression', 'Naive Bayse', 'Neural Network', 'Decision Tree', 'Random Forest',\n",
        "               'KNeighbors', 'SVM', 'LightGBM']\n",
        "\n",
        "plt.figure(figsize= (22,22))\n",
        "for i, pred in enumerate(predictions):\n",
        "  plt.subplot(4,3,i+1)\n",
        "  sns.regplot(x= y_test, y= pred, color= 'purple')\n",
        "  plt.title(f'Actual vs Predicted Output of {classifiers_name[i]}')\n",
        "  plt.xlabel('Actual Test Output')\n",
        "  plt.ylabel('Predicted Test Output')"
      ]
    },
    {
      "cell_type": "markdown",
      "metadata": {
        "id": "nUVOodoBtI47"
      },
      "source": [
        "### Model Testing / Predictions on the Test Data"
      ]
    },
    {
      "cell_type": "code",
      "execution_count": null,
      "metadata": {
        "id": "UQV05c03t12j"
      },
      "outputs": [],
      "source": [
        "# Use the trained model to make predictions on the test data\n",
        "df_test_pred = nb_model.predict(df_test_vectorized)\n",
        "df_test['predicted genre'] = encoder.inverse_transform(df_test_pred)"
      ]
    },
    {
      "cell_type": "code",
      "execution_count": 63,
      "metadata": {
        "id": "R2jcdF9AjfAE",
        "colab": {
          "base_uri": "https://localhost:8080/",
          "height": 124
        },
        "outputId": "7ec2b937-a225-4a54-fd04-876e74aa57e9"
      },
      "outputs": [
        {
          "output_type": "execute_result",
          "data": {
            "text/plain": [
              "Pipeline(steps=[('vectorizer', TfidfVectorizer()), ('nb', MultinomialNB())])"
            ],
            "text/html": [
              "<style>#sk-container-id-3 {color: black;background-color: white;}#sk-container-id-3 pre{padding: 0;}#sk-container-id-3 div.sk-toggleable {background-color: white;}#sk-container-id-3 label.sk-toggleable__label {cursor: pointer;display: block;width: 100%;margin-bottom: 0;padding: 0.3em;box-sizing: border-box;text-align: center;}#sk-container-id-3 label.sk-toggleable__label-arrow:before {content: \"▸\";float: left;margin-right: 0.25em;color: #696969;}#sk-container-id-3 label.sk-toggleable__label-arrow:hover:before {color: black;}#sk-container-id-3 div.sk-estimator:hover label.sk-toggleable__label-arrow:before {color: black;}#sk-container-id-3 div.sk-toggleable__content {max-height: 0;max-width: 0;overflow: hidden;text-align: left;background-color: #f0f8ff;}#sk-container-id-3 div.sk-toggleable__content pre {margin: 0.2em;color: black;border-radius: 0.25em;background-color: #f0f8ff;}#sk-container-id-3 input.sk-toggleable__control:checked~div.sk-toggleable__content {max-height: 200px;max-width: 100%;overflow: auto;}#sk-container-id-3 input.sk-toggleable__control:checked~label.sk-toggleable__label-arrow:before {content: \"▾\";}#sk-container-id-3 div.sk-estimator input.sk-toggleable__control:checked~label.sk-toggleable__label {background-color: #d4ebff;}#sk-container-id-3 div.sk-label input.sk-toggleable__control:checked~label.sk-toggleable__label {background-color: #d4ebff;}#sk-container-id-3 input.sk-hidden--visually {border: 0;clip: rect(1px 1px 1px 1px);clip: rect(1px, 1px, 1px, 1px);height: 1px;margin: -1px;overflow: hidden;padding: 0;position: absolute;width: 1px;}#sk-container-id-3 div.sk-estimator {font-family: monospace;background-color: #f0f8ff;border: 1px dotted black;border-radius: 0.25em;box-sizing: border-box;margin-bottom: 0.5em;}#sk-container-id-3 div.sk-estimator:hover {background-color: #d4ebff;}#sk-container-id-3 div.sk-parallel-item::after {content: \"\";width: 100%;border-bottom: 1px solid gray;flex-grow: 1;}#sk-container-id-3 div.sk-label:hover label.sk-toggleable__label {background-color: #d4ebff;}#sk-container-id-3 div.sk-serial::before {content: \"\";position: absolute;border-left: 1px solid gray;box-sizing: border-box;top: 0;bottom: 0;left: 50%;z-index: 0;}#sk-container-id-3 div.sk-serial {display: flex;flex-direction: column;align-items: center;background-color: white;padding-right: 0.2em;padding-left: 0.2em;position: relative;}#sk-container-id-3 div.sk-item {position: relative;z-index: 1;}#sk-container-id-3 div.sk-parallel {display: flex;align-items: stretch;justify-content: center;background-color: white;position: relative;}#sk-container-id-3 div.sk-item::before, #sk-container-id-3 div.sk-parallel-item::before {content: \"\";position: absolute;border-left: 1px solid gray;box-sizing: border-box;top: 0;bottom: 0;left: 50%;z-index: -1;}#sk-container-id-3 div.sk-parallel-item {display: flex;flex-direction: column;z-index: 1;position: relative;background-color: white;}#sk-container-id-3 div.sk-parallel-item:first-child::after {align-self: flex-end;width: 50%;}#sk-container-id-3 div.sk-parallel-item:last-child::after {align-self: flex-start;width: 50%;}#sk-container-id-3 div.sk-parallel-item:only-child::after {width: 0;}#sk-container-id-3 div.sk-dashed-wrapped {border: 1px dashed gray;margin: 0 0.4em 0.5em 0.4em;box-sizing: border-box;padding-bottom: 0.4em;background-color: white;}#sk-container-id-3 div.sk-label label {font-family: monospace;font-weight: bold;display: inline-block;line-height: 1.2em;}#sk-container-id-3 div.sk-label-container {text-align: center;}#sk-container-id-3 div.sk-container {/* jupyter's `normalize.less` sets `[hidden] { display: none; }` but bootstrap.min.css set `[hidden] { display: none !important; }` so we also need the `!important` here to be able to override the default hidden behavior on the sphinx rendered scikit-learn.org. See: https://github.com/scikit-learn/scikit-learn/issues/21755 */display: inline-block !important;position: relative;}#sk-container-id-3 div.sk-text-repr-fallback {display: none;}</style><div id=\"sk-container-id-3\" class=\"sk-top-container\"><div class=\"sk-text-repr-fallback\"><pre>Pipeline(steps=[(&#x27;vectorizer&#x27;, TfidfVectorizer()), (&#x27;nb&#x27;, MultinomialNB())])</pre><b>In a Jupyter environment, please rerun this cell to show the HTML representation or trust the notebook. <br />On GitHub, the HTML representation is unable to render, please try loading this page with nbviewer.org.</b></div><div class=\"sk-container\" hidden><div class=\"sk-item sk-dashed-wrapped\"><div class=\"sk-label-container\"><div class=\"sk-label sk-toggleable\"><input class=\"sk-toggleable__control sk-hidden--visually\" id=\"sk-estimator-id-7\" type=\"checkbox\" ><label for=\"sk-estimator-id-7\" class=\"sk-toggleable__label sk-toggleable__label-arrow\">Pipeline</label><div class=\"sk-toggleable__content\"><pre>Pipeline(steps=[(&#x27;vectorizer&#x27;, TfidfVectorizer()), (&#x27;nb&#x27;, MultinomialNB())])</pre></div></div></div><div class=\"sk-serial\"><div class=\"sk-item\"><div class=\"sk-estimator sk-toggleable\"><input class=\"sk-toggleable__control sk-hidden--visually\" id=\"sk-estimator-id-8\" type=\"checkbox\" ><label for=\"sk-estimator-id-8\" class=\"sk-toggleable__label sk-toggleable__label-arrow\">TfidfVectorizer</label><div class=\"sk-toggleable__content\"><pre>TfidfVectorizer()</pre></div></div></div><div class=\"sk-item\"><div class=\"sk-estimator sk-toggleable\"><input class=\"sk-toggleable__control sk-hidden--visually\" id=\"sk-estimator-id-9\" type=\"checkbox\" ><label for=\"sk-estimator-id-9\" class=\"sk-toggleable__label sk-toggleable__label-arrow\">MultinomialNB</label><div class=\"sk-toggleable__content\"><pre>MultinomialNB()</pre></div></div></div></div></div></div></div>"
            ]
          },
          "metadata": {},
          "execution_count": 63
        }
      ],
      "source": [
        "# Writing Steps in a model to fiting them using Pipeline\n",
        "clf = Pipeline([('vectorizer', TfidfVectorizer()), ('nb', MultinomialNB())])    # Neural Network gives good result\n",
        "\n",
        "# training the model\n",
        "clf.fit(df_train.cleaned_text, df_train.genre)"
      ]
    },
    {
      "cell_type": "code",
      "execution_count": 64,
      "metadata": {
        "id": "7VS7HauDTZWd",
        "colab": {
          "base_uri": "https://localhost:8080/"
        },
        "outputId": "288cd6ea-75c4-412d-dd16-dcc38a775752"
      },
      "outputs": [
        {
          "output_type": "stream",
          "name": "stdout",
          "text": [
            "Prediction:  [' drama ' ' drama ']\n"
          ]
        }
      ],
      "source": [
        "# Predicting manual\n",
        "\n",
        "Descriptions = [\n",
        "    \"Listening in to a conversation between his doctor and parents, 10-year-old Oscar learns what nobody has the courage to tell him. He only has a few weeks to live. Furious, he refuses to speak to anyone except straight-talking Rose, the lady in pink he meets on the hospital stairs. As Christmas approaches, Rose uses her fantastical experiences as a professional wrestler, her imagination, wit and charm to allow Oscar to live life and love to the full, in the company of his friends Pop Corn, Einstein, Bacon and childhood sweetheart Peggy Blue.\",\n",
        "    \"In tough economic times Max and Joey have all but run out of ideas until, they discover that senior housing is cheap. Not only that but Max's aunt just kicked the bucket and no one knows yet. In a hilarious series that always keeps you on your toes, the two friends take us on a cross-dressing, desperate and endearing ride through being broke.\"\n",
        "]\n",
        "\n",
        "print('Prediction: ', encoder.inverse_transform(clf.predict(Descriptions)))"
      ]
    },
    {
      "cell_type": "code",
      "execution_count": 72,
      "metadata": {
        "id": "0jxnNRfAFVLq",
        "colab": {
          "base_uri": "https://localhost:8080/",
          "height": 83,
          "referenced_widgets": [
            "0c8aa6a3677840d2b55a8d72fe83432e",
            "fe25e2185d7f40faa9bc7d82d2722258",
            "2ef29c64b9e94d4ca76aab302507c117",
            "5ee42a74e7154dadb5de5108d5352222",
            "1663b4e88a024015b47e6cba94a2738f",
            "c2164cb988284b9dbc55d5bdf65000d4"
          ]
        },
        "outputId": "95ac8708-31fb-4f5c-c111-1efa28bcfe73"
      },
      "outputs": [
        {
          "output_type": "display_data",
          "data": {
            "text/plain": [
              "Text(value='', layout=Layout(height='30px', width='500px'), placeholder='Enter description')"
            ],
            "application/vnd.jupyter.widget-view+json": {
              "version_major": 2,
              "version_minor": 0,
              "model_id": "0c8aa6a3677840d2b55a8d72fe83432e"
            }
          },
          "metadata": {}
        },
        {
          "output_type": "display_data",
          "data": {
            "text/plain": [
              "Button(description='PREDICT', style=ButtonStyle())"
            ],
            "application/vnd.jupyter.widget-view+json": {
              "version_major": 2,
              "version_minor": 0,
              "model_id": "5ee42a74e7154dadb5de5108d5352222"
            }
          },
          "metadata": {}
        }
      ],
      "source": [
        "# GUI\n",
        "import ipywidgets as widgets\n",
        "from IPython.display import display\n",
        "\n",
        "# Define a function to be called when the button is clicked\n",
        "def button_click_search(b):\n",
        "  text_value = text_box.value\n",
        "  text_value = [text_value]  # Convert the text value to a list\n",
        "  print(\"Film's GENRE is : \", encoder.inverse_transform(clf.predict(text_value)))\n",
        "\n",
        "# Create button and text box widgets\n",
        "button = widgets.Button(description= 'PREDICT')\n",
        "text_box = widgets.Text(placeholder= 'Enter description')\n",
        "text_box.layout.width = '500px'\n",
        "text_box.layout.height = '30px'\n",
        "\n",
        "# Attach the function to the button click event\n",
        "button.on_click(button_click_search)\n",
        "\n",
        "# Display the widgets\n",
        "display(text_box)\n",
        "display(button)"
      ]
    },
    {
      "cell_type": "code",
      "source": [
        "df_test['description'].iloc[:1].values"
      ],
      "metadata": {
        "colab": {
          "base_uri": "https://localhost:8080/"
        },
        "id": "bULL2IYaOyHg",
        "outputId": "509dc978-71ce-4ac2-da91-73729db86916"
      },
      "execution_count": 70,
      "outputs": [
        {
          "output_type": "execute_result",
          "data": {
            "text/plain": [
              "array([\" L.R. Brane loves his life - his car, his apartment, his job, but especially his girlfriend, Vespa. One day while showering, Vespa runs out of shampoo. L.R. runs across the street to a convenience store to buy some more, a quick trip of no more than a few minutes. When he returns, Vespa is gone and every trace of her existence has been wiped out. L.R.'s life becomes a tortured existence as one strange event after another occurs to confirm in his mind that a conspiracy is working against his finding Vespa.\"],\n",
              "      dtype=object)"
            ]
          },
          "metadata": {},
          "execution_count": 70
        }
      ]
    },
    {
      "cell_type": "code",
      "source": [
        "df_test.head()"
      ],
      "metadata": {
        "colab": {
          "base_uri": "https://localhost:8080/",
          "height": 206
        },
        "id": "pg5idZ46P63o",
        "outputId": "da26fbf6-9226-4905-ce01-48b6e929d34c"
      },
      "execution_count": 71,
      "outputs": [
        {
          "output_type": "execute_result",
          "data": {
            "text/plain": [
              "                           title          genre  \\\n",
              "0          Edgar's Lunch (1998)       thriller    \n",
              "1      La guerra de papá (1977)         comedy    \n",
              "2   Off the Beaten Track (2010)    documentary    \n",
              "3        Meu Amigo Hindu (2015)          drama    \n",
              "4             Er nu zhai (1955)          drama    \n",
              "\n",
              "                                         description  \\\n",
              "0   L.R. Brane loves his life - his car, his apar...   \n",
              "1   Spain, March 1964: Quico is a very naughty ch...   \n",
              "2   One year in the life of Albin and his family ...   \n",
              "3   His father has died, he hasn't spoken with hi...   \n",
              "4   Before he was known internationally as a mart...   \n",
              "\n",
              "                                        cleaned_text  \n",
              "0  r brane love life car apartment job especially...  \n",
              "1  spain march quico naughty child three belong w...  \n",
              "2  one year life albin family shepherd north tran...  \n",
              "3  father die have not speak brother year serious...  \n",
              "4  know internationally martial art superstar bru...  "
            ],
            "text/html": [
              "\n",
              "  <div id=\"df-d63a41de-a14c-4aca-805a-03de4cf0ef1d\" class=\"colab-df-container\">\n",
              "    <div>\n",
              "<style scoped>\n",
              "    .dataframe tbody tr th:only-of-type {\n",
              "        vertical-align: middle;\n",
              "    }\n",
              "\n",
              "    .dataframe tbody tr th {\n",
              "        vertical-align: top;\n",
              "    }\n",
              "\n",
              "    .dataframe thead th {\n",
              "        text-align: right;\n",
              "    }\n",
              "</style>\n",
              "<table border=\"1\" class=\"dataframe\">\n",
              "  <thead>\n",
              "    <tr style=\"text-align: right;\">\n",
              "      <th></th>\n",
              "      <th>title</th>\n",
              "      <th>genre</th>\n",
              "      <th>description</th>\n",
              "      <th>cleaned_text</th>\n",
              "    </tr>\n",
              "  </thead>\n",
              "  <tbody>\n",
              "    <tr>\n",
              "      <th>0</th>\n",
              "      <td>Edgar's Lunch (1998)</td>\n",
              "      <td>thriller</td>\n",
              "      <td>L.R. Brane loves his life - his car, his apar...</td>\n",
              "      <td>r brane love life car apartment job especially...</td>\n",
              "    </tr>\n",
              "    <tr>\n",
              "      <th>1</th>\n",
              "      <td>La guerra de papá (1977)</td>\n",
              "      <td>comedy</td>\n",
              "      <td>Spain, March 1964: Quico is a very naughty ch...</td>\n",
              "      <td>spain march quico naughty child three belong w...</td>\n",
              "    </tr>\n",
              "    <tr>\n",
              "      <th>2</th>\n",
              "      <td>Off the Beaten Track (2010)</td>\n",
              "      <td>documentary</td>\n",
              "      <td>One year in the life of Albin and his family ...</td>\n",
              "      <td>one year life albin family shepherd north tran...</td>\n",
              "    </tr>\n",
              "    <tr>\n",
              "      <th>3</th>\n",
              "      <td>Meu Amigo Hindu (2015)</td>\n",
              "      <td>drama</td>\n",
              "      <td>His father has died, he hasn't spoken with hi...</td>\n",
              "      <td>father die have not speak brother year serious...</td>\n",
              "    </tr>\n",
              "    <tr>\n",
              "      <th>4</th>\n",
              "      <td>Er nu zhai (1955)</td>\n",
              "      <td>drama</td>\n",
              "      <td>Before he was known internationally as a mart...</td>\n",
              "      <td>know internationally martial art superstar bru...</td>\n",
              "    </tr>\n",
              "  </tbody>\n",
              "</table>\n",
              "</div>\n",
              "    <div class=\"colab-df-buttons\">\n",
              "\n",
              "  <div class=\"colab-df-container\">\n",
              "    <button class=\"colab-df-convert\" onclick=\"convertToInteractive('df-d63a41de-a14c-4aca-805a-03de4cf0ef1d')\"\n",
              "            title=\"Convert this dataframe to an interactive table.\"\n",
              "            style=\"display:none;\">\n",
              "\n",
              "  <svg xmlns=\"http://www.w3.org/2000/svg\" height=\"24px\" viewBox=\"0 -960 960 960\">\n",
              "    <path d=\"M120-120v-720h720v720H120Zm60-500h600v-160H180v160Zm220 220h160v-160H400v160Zm0 220h160v-160H400v160ZM180-400h160v-160H180v160Zm440 0h160v-160H620v160ZM180-180h160v-160H180v160Zm440 0h160v-160H620v160Z\"/>\n",
              "  </svg>\n",
              "    </button>\n",
              "\n",
              "  <style>\n",
              "    .colab-df-container {\n",
              "      display:flex;\n",
              "      gap: 12px;\n",
              "    }\n",
              "\n",
              "    .colab-df-convert {\n",
              "      background-color: #E8F0FE;\n",
              "      border: none;\n",
              "      border-radius: 50%;\n",
              "      cursor: pointer;\n",
              "      display: none;\n",
              "      fill: #1967D2;\n",
              "      height: 32px;\n",
              "      padding: 0 0 0 0;\n",
              "      width: 32px;\n",
              "    }\n",
              "\n",
              "    .colab-df-convert:hover {\n",
              "      background-color: #E2EBFA;\n",
              "      box-shadow: 0px 1px 2px rgba(60, 64, 67, 0.3), 0px 1px 3px 1px rgba(60, 64, 67, 0.15);\n",
              "      fill: #174EA6;\n",
              "    }\n",
              "\n",
              "    .colab-df-buttons div {\n",
              "      margin-bottom: 4px;\n",
              "    }\n",
              "\n",
              "    [theme=dark] .colab-df-convert {\n",
              "      background-color: #3B4455;\n",
              "      fill: #D2E3FC;\n",
              "    }\n",
              "\n",
              "    [theme=dark] .colab-df-convert:hover {\n",
              "      background-color: #434B5C;\n",
              "      box-shadow: 0px 1px 3px 1px rgba(0, 0, 0, 0.15);\n",
              "      filter: drop-shadow(0px 1px 2px rgba(0, 0, 0, 0.3));\n",
              "      fill: #FFFFFF;\n",
              "    }\n",
              "  </style>\n",
              "\n",
              "    <script>\n",
              "      const buttonEl =\n",
              "        document.querySelector('#df-d63a41de-a14c-4aca-805a-03de4cf0ef1d button.colab-df-convert');\n",
              "      buttonEl.style.display =\n",
              "        google.colab.kernel.accessAllowed ? 'block' : 'none';\n",
              "\n",
              "      async function convertToInteractive(key) {\n",
              "        const element = document.querySelector('#df-d63a41de-a14c-4aca-805a-03de4cf0ef1d');\n",
              "        const dataTable =\n",
              "          await google.colab.kernel.invokeFunction('convertToInteractive',\n",
              "                                                    [key], {});\n",
              "        if (!dataTable) return;\n",
              "\n",
              "        const docLinkHtml = 'Like what you see? Visit the ' +\n",
              "          '<a target=\"_blank\" href=https://colab.research.google.com/notebooks/data_table.ipynb>data table notebook</a>'\n",
              "          + ' to learn more about interactive tables.';\n",
              "        element.innerHTML = '';\n",
              "        dataTable['output_type'] = 'display_data';\n",
              "        await google.colab.output.renderOutput(dataTable, element);\n",
              "        const docLink = document.createElement('div');\n",
              "        docLink.innerHTML = docLinkHtml;\n",
              "        element.appendChild(docLink);\n",
              "      }\n",
              "    </script>\n",
              "  </div>\n",
              "\n",
              "\n",
              "<div id=\"df-c4df591d-1727-4f15-a923-89a1e706fdee\">\n",
              "  <button class=\"colab-df-quickchart\" onclick=\"quickchart('df-c4df591d-1727-4f15-a923-89a1e706fdee')\"\n",
              "            title=\"Suggest charts\"\n",
              "            style=\"display:none;\">\n",
              "\n",
              "<svg xmlns=\"http://www.w3.org/2000/svg\" height=\"24px\"viewBox=\"0 0 24 24\"\n",
              "     width=\"24px\">\n",
              "    <g>\n",
              "        <path d=\"M19 3H5c-1.1 0-2 .9-2 2v14c0 1.1.9 2 2 2h14c1.1 0 2-.9 2-2V5c0-1.1-.9-2-2-2zM9 17H7v-7h2v7zm4 0h-2V7h2v10zm4 0h-2v-4h2v4z\"/>\n",
              "    </g>\n",
              "</svg>\n",
              "  </button>\n",
              "\n",
              "<style>\n",
              "  .colab-df-quickchart {\n",
              "      --bg-color: #E8F0FE;\n",
              "      --fill-color: #1967D2;\n",
              "      --hover-bg-color: #E2EBFA;\n",
              "      --hover-fill-color: #174EA6;\n",
              "      --disabled-fill-color: #AAA;\n",
              "      --disabled-bg-color: #DDD;\n",
              "  }\n",
              "\n",
              "  [theme=dark] .colab-df-quickchart {\n",
              "      --bg-color: #3B4455;\n",
              "      --fill-color: #D2E3FC;\n",
              "      --hover-bg-color: #434B5C;\n",
              "      --hover-fill-color: #FFFFFF;\n",
              "      --disabled-bg-color: #3B4455;\n",
              "      --disabled-fill-color: #666;\n",
              "  }\n",
              "\n",
              "  .colab-df-quickchart {\n",
              "    background-color: var(--bg-color);\n",
              "    border: none;\n",
              "    border-radius: 50%;\n",
              "    cursor: pointer;\n",
              "    display: none;\n",
              "    fill: var(--fill-color);\n",
              "    height: 32px;\n",
              "    padding: 0;\n",
              "    width: 32px;\n",
              "  }\n",
              "\n",
              "  .colab-df-quickchart:hover {\n",
              "    background-color: var(--hover-bg-color);\n",
              "    box-shadow: 0 1px 2px rgba(60, 64, 67, 0.3), 0 1px 3px 1px rgba(60, 64, 67, 0.15);\n",
              "    fill: var(--button-hover-fill-color);\n",
              "  }\n",
              "\n",
              "  .colab-df-quickchart-complete:disabled,\n",
              "  .colab-df-quickchart-complete:disabled:hover {\n",
              "    background-color: var(--disabled-bg-color);\n",
              "    fill: var(--disabled-fill-color);\n",
              "    box-shadow: none;\n",
              "  }\n",
              "\n",
              "  .colab-df-spinner {\n",
              "    border: 2px solid var(--fill-color);\n",
              "    border-color: transparent;\n",
              "    border-bottom-color: var(--fill-color);\n",
              "    animation:\n",
              "      spin 1s steps(1) infinite;\n",
              "  }\n",
              "\n",
              "  @keyframes spin {\n",
              "    0% {\n",
              "      border-color: transparent;\n",
              "      border-bottom-color: var(--fill-color);\n",
              "      border-left-color: var(--fill-color);\n",
              "    }\n",
              "    20% {\n",
              "      border-color: transparent;\n",
              "      border-left-color: var(--fill-color);\n",
              "      border-top-color: var(--fill-color);\n",
              "    }\n",
              "    30% {\n",
              "      border-color: transparent;\n",
              "      border-left-color: var(--fill-color);\n",
              "      border-top-color: var(--fill-color);\n",
              "      border-right-color: var(--fill-color);\n",
              "    }\n",
              "    40% {\n",
              "      border-color: transparent;\n",
              "      border-right-color: var(--fill-color);\n",
              "      border-top-color: var(--fill-color);\n",
              "    }\n",
              "    60% {\n",
              "      border-color: transparent;\n",
              "      border-right-color: var(--fill-color);\n",
              "    }\n",
              "    80% {\n",
              "      border-color: transparent;\n",
              "      border-right-color: var(--fill-color);\n",
              "      border-bottom-color: var(--fill-color);\n",
              "    }\n",
              "    90% {\n",
              "      border-color: transparent;\n",
              "      border-bottom-color: var(--fill-color);\n",
              "    }\n",
              "  }\n",
              "</style>\n",
              "\n",
              "  <script>\n",
              "    async function quickchart(key) {\n",
              "      const quickchartButtonEl =\n",
              "        document.querySelector('#' + key + ' button');\n",
              "      quickchartButtonEl.disabled = true;  // To prevent multiple clicks.\n",
              "      quickchartButtonEl.classList.add('colab-df-spinner');\n",
              "      try {\n",
              "        const charts = await google.colab.kernel.invokeFunction(\n",
              "            'suggestCharts', [key], {});\n",
              "      } catch (error) {\n",
              "        console.error('Error during call to suggestCharts:', error);\n",
              "      }\n",
              "      quickchartButtonEl.classList.remove('colab-df-spinner');\n",
              "      quickchartButtonEl.classList.add('colab-df-quickchart-complete');\n",
              "    }\n",
              "    (() => {\n",
              "      let quickchartButtonEl =\n",
              "        document.querySelector('#df-c4df591d-1727-4f15-a923-89a1e706fdee button');\n",
              "      quickchartButtonEl.style.display =\n",
              "        google.colab.kernel.accessAllowed ? 'block' : 'none';\n",
              "    })();\n",
              "  </script>\n",
              "</div>\n",
              "\n",
              "    </div>\n",
              "  </div>\n"
            ],
            "application/vnd.google.colaboratory.intrinsic+json": {
              "type": "dataframe",
              "variable_name": "df_test",
              "summary": "{\n  \"name\": \"df_test\",\n  \"rows\": 5000,\n  \"fields\": [\n    {\n      \"column\": \"title\",\n      \"properties\": {\n        \"dtype\": \"string\",\n        \"num_unique_values\": 5000,\n        \"samples\": [\n          \" Virtual Desire (1995) \",\n          \" Of Hopscotch and Little Girls: Stolen Childhood (1999) \",\n          \" Hunters Are for Killing (1970) \"\n        ],\n        \"semantic_type\": \"\",\n        \"description\": \"\"\n      }\n    },\n    {\n      \"column\": \"genre\",\n      \"properties\": {\n        \"dtype\": \"category\",\n        \"num_unique_values\": 27,\n        \"samples\": [\n          \" sport \",\n          \" adult \",\n          \" romance \"\n        ],\n        \"semantic_type\": \"\",\n        \"description\": \"\"\n      }\n    },\n    {\n      \"column\": \"description\",\n      \"properties\": {\n        \"dtype\": \"string\",\n        \"num_unique_values\": 4997,\n        \"samples\": [\n          \" Four friends chasing a similar dream living in one house in L.A. They eventually take a nose dive into regularity, and realize just how tough it is to \\\"make it in L.A.\\\" With drugs and alcohol fueling their child-like mentality, the boys get in over their heads with each new adventure.\",\n          \" Aiyun Huang's DVD, \\\"Save Percussion Theater,\\\" is a video-recording of theater music for percussion dedicated to the pioneering work of the Parisian group \\\"Trio Le Cercle,\\\" for whom many of these works written and by whom they have been championed. This recording, in essence a document of the complete percussion works from the French school of theater music, is an ambitious undertaking.\",\n          \" \\\"David Lea's Fight Camp\\\" takes viewers inside the world of the fastest growing combat sport on the planet, Mixed Martial Arts, showcasing the warriors and their struggles to fulfill their dreams as professional fighters. It gives an in-depth look at the emotional stories behind the fighters, and the reasons why they do what they do. The series follows Toshido Mixed Martial Arts founder, David Lea, who started training professional fighters 12 years ago, as he gets his team physically and emotionally prepared for the realities of professional MMA competition. Under David's world-class guidance, Team Toshido has won numerous National titles, a World title, and has fighters competing at the highest levels of the sport. Come join \\\"David Lea's Fight Camp\\\" on a never before seen journey into the dramatic victories and defeats of modern day gladiators.\"\n        ],\n        \"semantic_type\": \"\",\n        \"description\": \"\"\n      }\n    },\n    {\n      \"column\": \"cleaned_text\",\n      \"properties\": {\n        \"dtype\": \"string\",\n        \"num_unique_values\": 4997,\n        \"samples\": [\n          \"four friend chase similar dream live one house eventually take nose dive regularity realize tough make drug alcohol fuel child like mentality boy get head new adventure\",\n          \"aiyun huangs dvd save percussion theater video recording theater music percussion dedicate pioneer work parisian group trio le cercle many work write champion record essence document complete percussion work french school theater music ambitious undertaking\",\n          \"david leas fight camp take viewer inside world fast grow combat sport planet mix martial art showcase warrior struggle fulfill dream professional fighter give depth look emotional story behind fighter reason series follow toshido mixed martial art founder david lea start train professional fighter year ago get team physically emotionally prepare reality professional mma competition david world class guidance team toshido numerous national title world title fighter compete high level sport come join david leas fight camp never see journey dramatic victory defeat modern day gladiator\"\n        ],\n        \"semantic_type\": \"\",\n        \"description\": \"\"\n      }\n    }\n  ]\n}"
            }
          },
          "metadata": {},
          "execution_count": 71
        }
      ]
    }
  ],
  "metadata": {
    "colab": {
      "provenance": []
    },
    "kernelspec": {
      "display_name": "Python 3",
      "name": "python3"
    },
    "language_info": {
      "name": "python"
    },
    "widgets": {
      "application/vnd.jupyter.widget-state+json": {
        "0c8aa6a3677840d2b55a8d72fe83432e": {
          "model_module": "@jupyter-widgets/controls",
          "model_name": "TextModel",
          "model_module_version": "1.5.0",
          "state": {
            "_dom_classes": [],
            "_model_module": "@jupyter-widgets/controls",
            "_model_module_version": "1.5.0",
            "_model_name": "TextModel",
            "_view_count": null,
            "_view_module": "@jupyter-widgets/controls",
            "_view_module_version": "1.5.0",
            "_view_name": "TextView",
            "continuous_update": true,
            "description": "",
            "description_tooltip": null,
            "disabled": false,
            "layout": "IPY_MODEL_fe25e2185d7f40faa9bc7d82d2722258",
            "placeholder": "Enter description",
            "style": "IPY_MODEL_2ef29c64b9e94d4ca76aab302507c117",
            "value": ""
          }
        },
        "fe25e2185d7f40faa9bc7d82d2722258": {
          "model_module": "@jupyter-widgets/base",
          "model_name": "LayoutModel",
          "model_module_version": "1.2.0",
          "state": {
            "_model_module": "@jupyter-widgets/base",
            "_model_module_version": "1.2.0",
            "_model_name": "LayoutModel",
            "_view_count": null,
            "_view_module": "@jupyter-widgets/base",
            "_view_module_version": "1.2.0",
            "_view_name": "LayoutView",
            "align_content": null,
            "align_items": null,
            "align_self": null,
            "border": null,
            "bottom": null,
            "display": null,
            "flex": null,
            "flex_flow": null,
            "grid_area": null,
            "grid_auto_columns": null,
            "grid_auto_flow": null,
            "grid_auto_rows": null,
            "grid_column": null,
            "grid_gap": null,
            "grid_row": null,
            "grid_template_areas": null,
            "grid_template_columns": null,
            "grid_template_rows": null,
            "height": "30px",
            "justify_content": null,
            "justify_items": null,
            "left": null,
            "margin": null,
            "max_height": null,
            "max_width": null,
            "min_height": null,
            "min_width": null,
            "object_fit": null,
            "object_position": null,
            "order": null,
            "overflow": null,
            "overflow_x": null,
            "overflow_y": null,
            "padding": null,
            "right": null,
            "top": null,
            "visibility": null,
            "width": "500px"
          }
        },
        "2ef29c64b9e94d4ca76aab302507c117": {
          "model_module": "@jupyter-widgets/controls",
          "model_name": "DescriptionStyleModel",
          "model_module_version": "1.5.0",
          "state": {
            "_model_module": "@jupyter-widgets/controls",
            "_model_module_version": "1.5.0",
            "_model_name": "DescriptionStyleModel",
            "_view_count": null,
            "_view_module": "@jupyter-widgets/base",
            "_view_module_version": "1.2.0",
            "_view_name": "StyleView",
            "description_width": ""
          }
        },
        "5ee42a74e7154dadb5de5108d5352222": {
          "model_module": "@jupyter-widgets/controls",
          "model_name": "ButtonModel",
          "model_module_version": "1.5.0",
          "state": {
            "_dom_classes": [],
            "_model_module": "@jupyter-widgets/controls",
            "_model_module_version": "1.5.0",
            "_model_name": "ButtonModel",
            "_view_count": null,
            "_view_module": "@jupyter-widgets/controls",
            "_view_module_version": "1.5.0",
            "_view_name": "ButtonView",
            "button_style": "",
            "description": "PREDICT",
            "disabled": false,
            "icon": "",
            "layout": "IPY_MODEL_1663b4e88a024015b47e6cba94a2738f",
            "style": "IPY_MODEL_c2164cb988284b9dbc55d5bdf65000d4",
            "tooltip": ""
          }
        },
        "1663b4e88a024015b47e6cba94a2738f": {
          "model_module": "@jupyter-widgets/base",
          "model_name": "LayoutModel",
          "model_module_version": "1.2.0",
          "state": {
            "_model_module": "@jupyter-widgets/base",
            "_model_module_version": "1.2.0",
            "_model_name": "LayoutModel",
            "_view_count": null,
            "_view_module": "@jupyter-widgets/base",
            "_view_module_version": "1.2.0",
            "_view_name": "LayoutView",
            "align_content": null,
            "align_items": null,
            "align_self": null,
            "border": null,
            "bottom": null,
            "display": null,
            "flex": null,
            "flex_flow": null,
            "grid_area": null,
            "grid_auto_columns": null,
            "grid_auto_flow": null,
            "grid_auto_rows": null,
            "grid_column": null,
            "grid_gap": null,
            "grid_row": null,
            "grid_template_areas": null,
            "grid_template_columns": null,
            "grid_template_rows": null,
            "height": null,
            "justify_content": null,
            "justify_items": null,
            "left": null,
            "margin": null,
            "max_height": null,
            "max_width": null,
            "min_height": null,
            "min_width": null,
            "object_fit": null,
            "object_position": null,
            "order": null,
            "overflow": null,
            "overflow_x": null,
            "overflow_y": null,
            "padding": null,
            "right": null,
            "top": null,
            "visibility": null,
            "width": null
          }
        },
        "c2164cb988284b9dbc55d5bdf65000d4": {
          "model_module": "@jupyter-widgets/controls",
          "model_name": "ButtonStyleModel",
          "model_module_version": "1.5.0",
          "state": {
            "_model_module": "@jupyter-widgets/controls",
            "_model_module_version": "1.5.0",
            "_model_name": "ButtonStyleModel",
            "_view_count": null,
            "_view_module": "@jupyter-widgets/base",
            "_view_module_version": "1.2.0",
            "_view_name": "StyleView",
            "button_color": null,
            "font_weight": ""
          }
        }
      }
    }
  },
  "nbformat": 4,
  "nbformat_minor": 0
}